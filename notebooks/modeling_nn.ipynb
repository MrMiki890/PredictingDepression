{
 "cells": [
  {
   "cell_type": "code",
   "execution_count": 1,
   "metadata": {},
   "outputs": [],
   "source": [
    "import tensorflow as tf\n",
    "from tensorflow import keras\n",
    "import keras_tuner as kt\n",
    "import pandas as pd\n",
    "import logging, os\n",
    "logging.disable(logging.WARNING)\n",
    "os.environ[\"TF_CPP_MIN_LOG_LEVEL\"] = \"3\"\n",
    "\n",
    "\n",
    "X_train = pd.read_csv(\"../datasets/X_train(15052022)-(1.00).csv\")\n",
    "X_test = pd.read_csv(\"../datasets/X_test(15052022)-(1.00).csv\")\n",
    "y_train = pd.read_csv(\"../datasets/y_train(15052022)-(1.00).csv\")\n",
    "y_test = pd.read_csv(\"../datasets/y_test(15052022)-(1.00).csv\")\n"
   ]
  },
  {
   "cell_type": "code",
   "execution_count": 2,
   "metadata": {},
   "outputs": [],
   "source": [
    "def build_model(hp):\n",
    "    \"\"\"\n",
    "    Builds model and sets up hyperparameter space to search.\n",
    "    \n",
    "    Parameters\n",
    "    ----------\n",
    "    hp : HyperParameter object\n",
    "        Configures hyperparameters to tune.\n",
    "        \n",
    "    Returns\n",
    "    -------\n",
    "    model : keras model\n",
    "        Compiled model with hyperparameters to tune.\n",
    "    \"\"\"\n",
    "    # Initialize sequential API and start building model.\n",
    "    model = keras.Sequential()\n",
    "    model.add(keras.layers.Flatten(input_shape=(195, )))\n",
    "    \n",
    "    # Tune the number of hidden layers and units in each.\n",
    "    # Number of hidden layers: 1 - 5\n",
    "    # Number of Units: 32 - 512 with stepsize of 32\n",
    "    for i in range(1, hp.Int(\"num_layers\", 2, 6)):\n",
    "        model.add(\n",
    "            keras.layers.Dense(\n",
    "                units=hp.Int(\"units_\" + str(i), min_value=32, max_value=512, step=32),\n",
    "                activation=\"relu\")\n",
    "            )\n",
    "        \n",
    "        # Tune dropout layer with values from 0 - 0.3 with stepsize of 0.1.\n",
    "        model.add(keras.layers.Dropout(hp.Float(\"dropout_\" + str(i), 0, 0.3, step=0.1)))\n",
    "    \n",
    "    # Add output layer.\n",
    "    model.add(keras.layers.Dense(units=10, activation=\"softmax\"))\n",
    "    \n",
    "    # Tune learning rate for Adam optimizer with values from 0.01, 0.001, or 0.0001\n",
    "    hp_learning_rate = hp.Choice(\"learning_rate\", values=[1e-2, 1e-3, 1e-4])\n",
    "    \n",
    "    # Define optimizer, loss, and metrics\n",
    "    model.compile(optimizer=keras.optimizers.Adam(learning_rate=hp_learning_rate),\n",
    "                  loss=keras.losses.SparseCategoricalCrossentropy(),\n",
    "                  metrics=[\"accuracy\"])\n",
    "    \n",
    "    return model"
   ]
  },
  {
   "cell_type": "code",
   "execution_count": 3,
   "metadata": {},
   "outputs": [],
   "source": [
    "# Build baseline model with Sequential API\n",
    "b_model = keras.Sequential()\n",
    "b_model.add(keras.layers.Flatten(input_shape=(195, )))\n",
    "b_model.add(keras.layers.Dense(units=512, activation='relu', name='dense_1'))\n",
    "b_model.add(keras.layers.Dropout(0.2))\n",
    "b_model.add(keras.layers.Dense(10, activation='softmax'))"
   ]
  },
  {
   "cell_type": "code",
   "execution_count": 4,
   "metadata": {},
   "outputs": [],
   "source": [
    "# Set training parameters\n",
    "b_model.compile(optimizer=keras.optimizers.Adam(learning_rate=0.001),\n",
    "              loss=keras.losses.SparseCategoricalCrossentropy(),\n",
    "              metrics=['accuracy'])"
   ]
  },
  {
   "cell_type": "code",
   "execution_count": 5,
   "metadata": {},
   "outputs": [
    {
     "name": "stdout",
     "output_type": "stream",
     "text": [
      "Epoch 1/20\n",
      "608/608 - 4s - loss: 0.2597 - accuracy: 0.9134 - val_loss: 0.2333 - val_accuracy: 0.9175 - 4s/epoch - 6ms/step\n",
      "Epoch 2/20\n",
      "608/608 - 1s - loss: 0.2339 - accuracy: 0.9175 - val_loss: 0.2302 - val_accuracy: 0.9181 - 1s/epoch - 2ms/step\n",
      "Epoch 3/20\n",
      "608/608 - 1s - loss: 0.2271 - accuracy: 0.9177 - val_loss: 0.2325 - val_accuracy: 0.9158 - 1s/epoch - 2ms/step\n",
      "Epoch 4/20\n",
      "608/608 - 1s - loss: 0.2219 - accuracy: 0.9213 - val_loss: 0.2318 - val_accuracy: 0.9187 - 1s/epoch - 2ms/step\n",
      "Epoch 5/20\n",
      "608/608 - 1s - loss: 0.2165 - accuracy: 0.9214 - val_loss: 0.2362 - val_accuracy: 0.9162 - 1s/epoch - 2ms/step\n",
      "Epoch 6/20\n",
      "608/608 - 1s - loss: 0.2080 - accuracy: 0.9249 - val_loss: 0.2366 - val_accuracy: 0.9183 - 1s/epoch - 2ms/step\n",
      "Epoch 7/20\n",
      "608/608 - 1s - loss: 0.2021 - accuracy: 0.9272 - val_loss: 0.2401 - val_accuracy: 0.9160 - 1s/epoch - 2ms/step\n"
     ]
    },
    {
     "data": {
      "text/plain": [
       "<keras.callbacks.History at 0x2908407c2e0>"
      ]
     },
     "execution_count": 5,
     "metadata": {},
     "output_type": "execute_result"
    }
   ],
   "source": [
    "# Number of epochs\n",
    "NUM_EPOCHS = 20\n",
    "\n",
    "# Early stopping set after 5 epochs\n",
    "stop_early = tf.keras.callbacks.EarlyStopping(monitor='val_loss', patience=5)\n",
    "\n",
    "# Train model\n",
    "b_model.fit(X_train, y_train, epochs=NUM_EPOCHS, validation_split=0.2, callbacks=[stop_early], verbose=2)\n"
   ]
  },
  {
   "cell_type": "code",
   "execution_count": 7,
   "metadata": {},
   "outputs": [
    {
     "name": "stdout",
     "output_type": "stream",
     "text": [
      "374/374 [==============================] - 1s 2ms/step - loss: 0.2439 - accuracy: 0.9149\n"
     ]
    },
    {
     "data": {
      "text/html": [
       "<div>\n",
       "<style scoped>\n",
       "    .dataframe tbody tr th:only-of-type {\n",
       "        vertical-align: middle;\n",
       "    }\n",
       "\n",
       "    .dataframe tbody tr th {\n",
       "        vertical-align: top;\n",
       "    }\n",
       "\n",
       "    .dataframe thead tr th {\n",
       "        text-align: left;\n",
       "    }\n",
       "</style>\n",
       "<table border=\"1\" class=\"dataframe\">\n",
       "  <thead>\n",
       "    <tr>\n",
       "      <th></th>\n",
       "      <th>loss</th>\n",
       "      <th>accuracy</th>\n",
       "    </tr>\n",
       "  </thead>\n",
       "  <tbody>\n",
       "    <tr>\n",
       "      <th>Baseline</th>\n",
       "      <td>0.243883</td>\n",
       "      <td>0.914926</td>\n",
       "    </tr>\n",
       "  </tbody>\n",
       "</table>\n",
       "</div>"
      ],
      "text/plain": [
       "              loss  accuracy\n",
       "Baseline  0.243883  0.914926"
      ]
     },
     "execution_count": 7,
     "metadata": {},
     "output_type": "execute_result"
    }
   ],
   "source": [
    "import pandas as pd\n",
    "\n",
    "def evaluate_model(model, X_test, y_test):\n",
    "    \"\"\"\n",
    "    evaluate model on test set and show results in dataframe.\n",
    "    \n",
    "    Parameters\n",
    "    ----------\n",
    "    model : keras model\n",
    "        trained keras model.\n",
    "    X_test : numpy array\n",
    "        Features of holdout set.\n",
    "    y_test : numpy array\n",
    "        Labels of holdout set.\n",
    "        \n",
    "    Returns\n",
    "    -------\n",
    "    display_df : DataFrame\n",
    "        Pandas dataframe containing evaluation results.\n",
    "    \"\"\"\n",
    "    eval_dict = model.evaluate(X_test, y_test, return_dict=True)\n",
    "    \n",
    "    display_df = pd.DataFrame([eval_dict.values()], columns=[list(eval_dict.keys())])\n",
    "    \n",
    "    return display_df\n",
    "\n",
    "# Evaluate model on test set and add results to dataframe\n",
    "results = evaluate_model(b_model, X_test, y_test)\n",
    "\n",
    "# Set index to 'Baseline'\n",
    "results.index = ['Baseline']\n",
    "\n",
    "# Display results\n",
    "results.head()"
   ]
  },
  {
   "cell_type": "code",
   "execution_count": 8,
   "metadata": {},
   "outputs": [],
   "source": [
    "# Instantiate the tuner\n",
    "tuner = kt.Hyperband(build_model,\n",
    "                     objective=\"val_accuracy\",\n",
    "                     max_epochs=50,\n",
    "                     factor=3,\n",
    "                     hyperband_iterations=10,\n",
    "                     directory=\"kt_dir\",\n",
    "                     project_name=\"kt_hyperband\",)"
   ]
  },
  {
   "cell_type": "code",
   "execution_count": 9,
   "metadata": {},
   "outputs": [
    {
     "name": "stdout",
     "output_type": "stream",
     "text": [
      "Search space summary\n",
      "Default search space size: 12\n",
      "num_layers (Int)\n",
      "{'default': None, 'conditions': [], 'min_value': 2, 'max_value': 6, 'step': 1, 'sampling': None}\n",
      "units_1 (Int)\n",
      "{'default': None, 'conditions': [], 'min_value': 32, 'max_value': 512, 'step': 32, 'sampling': None}\n",
      "dropout_1 (Float)\n",
      "{'default': 0.0, 'conditions': [], 'min_value': 0.0, 'max_value': 0.3, 'step': 0.1, 'sampling': None}\n",
      "learning_rate (Choice)\n",
      "{'default': 0.01, 'conditions': [], 'values': [0.01, 0.001, 0.0001], 'ordered': True}\n",
      "units_2 (Int)\n",
      "{'default': None, 'conditions': [], 'min_value': 32, 'max_value': 512, 'step': 32, 'sampling': None}\n",
      "dropout_2 (Float)\n",
      "{'default': 0.0, 'conditions': [], 'min_value': 0.0, 'max_value': 0.3, 'step': 0.1, 'sampling': None}\n",
      "units_3 (Int)\n",
      "{'default': None, 'conditions': [], 'min_value': 32, 'max_value': 512, 'step': 32, 'sampling': None}\n",
      "dropout_3 (Float)\n",
      "{'default': 0.0, 'conditions': [], 'min_value': 0.0, 'max_value': 0.3, 'step': 0.1, 'sampling': None}\n",
      "units_4 (Int)\n",
      "{'default': None, 'conditions': [], 'min_value': 32, 'max_value': 512, 'step': 32, 'sampling': None}\n",
      "dropout_4 (Float)\n",
      "{'default': 0.0, 'conditions': [], 'min_value': 0.0, 'max_value': 0.3, 'step': 0.1, 'sampling': None}\n",
      "units_5 (Int)\n",
      "{'default': None, 'conditions': [], 'min_value': 32, 'max_value': 512, 'step': 32, 'sampling': None}\n",
      "dropout_5 (Float)\n",
      "{'default': 0.0, 'conditions': [], 'min_value': 0.0, 'max_value': 0.3, 'step': 0.1, 'sampling': None}\n"
     ]
    }
   ],
   "source": [
    "tuner.search_space_summary()"
   ]
  },
  {
   "cell_type": "code",
   "execution_count": 10,
   "metadata": {},
   "outputs": [],
   "source": [
    "stop_early = tf.keras.callbacks.EarlyStopping(monitor='val_loss', patience=5)\n"
   ]
  },
  {
   "cell_type": "code",
   "execution_count": 11,
   "metadata": {},
   "outputs": [
    {
     "name": "stdout",
     "output_type": "stream",
     "text": [
      "Trial 307 Complete [00h 00m 17s]\n",
      "val_accuracy: 0.9174727201461792\n",
      "\n",
      "Best val_accuracy So Far: 0.9211772084236145\n",
      "Total elapsed time: 00h 01m 35s\n",
      "\n",
      "Search: Running Trial #308\n",
      "\n",
      "Value             |Best Value So Far |Hyperparameter\n",
      "5                 |4                 |num_layers\n",
      "320               |384               |units_1\n",
      "0.2               |0.2               |dropout_1\n",
      "0.001             |0.0001            |learning_rate\n",
      "224               |480               |units_2\n",
      "0.2               |0.2               |dropout_2\n",
      "224               |352               |units_3\n",
      "0.1               |0.1               |dropout_3\n",
      "416               |384               |units_4\n",
      "0                 |0.2               |dropout_4\n",
      "128               |448               |units_5\n",
      "0.1               |0.2               |dropout_5\n",
      "20                |7                 |tuner/epochs\n",
      "7                 |0                 |tuner/initial_epoch\n",
      "1                 |1                 |tuner/bracket\n",
      "1                 |0                 |tuner/round\n",
      "0305              |None              |tuner/trial_id\n",
      "\n",
      "Epoch 8/20\n",
      "608/608 - 3s - loss: 0.2629 - accuracy: 0.9127 - val_loss: 0.2334 - val_accuracy: 0.9154 - 3s/epoch - 6ms/step\n",
      "Epoch 9/20\n",
      "608/608 - 2s - loss: 0.2363 - accuracy: 0.9163 - val_loss: 0.2344 - val_accuracy: 0.9158 - 2s/epoch - 3ms/step\n",
      "Epoch 10/20\n",
      "608/608 - 2s - loss: 0.2299 - accuracy: 0.9172 - val_loss: 0.2302 - val_accuracy: 0.9179 - 2s/epoch - 3ms/step\n",
      "Epoch 11/20\n",
      "608/608 - 2s - loss: 0.2253 - accuracy: 0.9183 - val_loss: 0.2521 - val_accuracy: 0.9024 - 2s/epoch - 3ms/step\n",
      "Epoch 12/20\n"
     ]
    },
    {
     "ename": "KeyboardInterrupt",
     "evalue": "",
     "output_type": "error",
     "traceback": [
      "\u001b[1;31m---------------------------------------------------------------------------\u001b[0m",
      "\u001b[1;31mKeyboardInterrupt\u001b[0m                         Traceback (most recent call last)",
      "\u001b[1;32mc:\\Users\\Robert\\coding\\projects\\studies\\PredictingDepression\\notebooks\\modeling_nn.ipynb Cell 10'\u001b[0m in \u001b[0;36m<cell line: 1>\u001b[1;34m()\u001b[0m\n\u001b[1;32m----> <a href='vscode-notebook-cell:/c%3A/Users/Robert/coding/projects/studies/PredictingDepression/notebooks/modeling_nn.ipynb#ch0000009?line=0'>1</a>\u001b[0m tuner\u001b[39m.\u001b[39;49msearch(X_train, y_train, epochs\u001b[39m=\u001b[39;49mNUM_EPOCHS, validation_split\u001b[39m=\u001b[39;49m\u001b[39m0.2\u001b[39;49m, callbacks\u001b[39m=\u001b[39;49m[stop_early], verbose\u001b[39m=\u001b[39;49m\u001b[39m2\u001b[39;49m)\n",
      "File \u001b[1;32mc:\\Users\\Robert\\anaconda3\\envs\\tensorEnv\\lib\\site-packages\\keras_tuner\\engine\\base_tuner.py:179\u001b[0m, in \u001b[0;36mBaseTuner.search\u001b[1;34m(self, *fit_args, **fit_kwargs)\u001b[0m\n\u001b[0;32m    <a href='file:///c%3A/Users/Robert/anaconda3/envs/tensorEnv/lib/site-packages/keras_tuner/engine/base_tuner.py?line=175'>176</a>\u001b[0m     \u001b[39mcontinue\u001b[39;00m\n\u001b[0;32m    <a href='file:///c%3A/Users/Robert/anaconda3/envs/tensorEnv/lib/site-packages/keras_tuner/engine/base_tuner.py?line=177'>178</a>\u001b[0m \u001b[39mself\u001b[39m\u001b[39m.\u001b[39mon_trial_begin(trial)\n\u001b[1;32m--> <a href='file:///c%3A/Users/Robert/anaconda3/envs/tensorEnv/lib/site-packages/keras_tuner/engine/base_tuner.py?line=178'>179</a>\u001b[0m results \u001b[39m=\u001b[39m \u001b[39mself\u001b[39m\u001b[39m.\u001b[39mrun_trial(trial, \u001b[39m*\u001b[39mfit_args, \u001b[39m*\u001b[39m\u001b[39m*\u001b[39mfit_kwargs)\n\u001b[0;32m    <a href='file:///c%3A/Users/Robert/anaconda3/envs/tensorEnv/lib/site-packages/keras_tuner/engine/base_tuner.py?line=179'>180</a>\u001b[0m \u001b[39m# `results` is None indicates user updated oracle in `run_trial()`.\u001b[39;00m\n\u001b[0;32m    <a href='file:///c%3A/Users/Robert/anaconda3/envs/tensorEnv/lib/site-packages/keras_tuner/engine/base_tuner.py?line=180'>181</a>\u001b[0m \u001b[39mif\u001b[39;00m results \u001b[39mis\u001b[39;00m \u001b[39mNone\u001b[39;00m:\n",
      "File \u001b[1;32mc:\\Users\\Robert\\anaconda3\\envs\\tensorEnv\\lib\\site-packages\\keras_tuner\\tuners\\hyperband.py:384\u001b[0m, in \u001b[0;36mHyperband.run_trial\u001b[1;34m(self, trial, *fit_args, **fit_kwargs)\u001b[0m\n\u001b[0;32m    <a href='file:///c%3A/Users/Robert/anaconda3/envs/tensorEnv/lib/site-packages/keras_tuner/tuners/hyperband.py?line=381'>382</a>\u001b[0m     fit_kwargs[\u001b[39m\"\u001b[39m\u001b[39mepochs\u001b[39m\u001b[39m\"\u001b[39m] \u001b[39m=\u001b[39m hp\u001b[39m.\u001b[39mvalues[\u001b[39m\"\u001b[39m\u001b[39mtuner/epochs\u001b[39m\u001b[39m\"\u001b[39m]\n\u001b[0;32m    <a href='file:///c%3A/Users/Robert/anaconda3/envs/tensorEnv/lib/site-packages/keras_tuner/tuners/hyperband.py?line=382'>383</a>\u001b[0m     fit_kwargs[\u001b[39m\"\u001b[39m\u001b[39minitial_epoch\u001b[39m\u001b[39m\"\u001b[39m] \u001b[39m=\u001b[39m hp\u001b[39m.\u001b[39mvalues[\u001b[39m\"\u001b[39m\u001b[39mtuner/initial_epoch\u001b[39m\u001b[39m\"\u001b[39m]\n\u001b[1;32m--> <a href='file:///c%3A/Users/Robert/anaconda3/envs/tensorEnv/lib/site-packages/keras_tuner/tuners/hyperband.py?line=383'>384</a>\u001b[0m \u001b[39mreturn\u001b[39;00m \u001b[39msuper\u001b[39m(Hyperband, \u001b[39mself\u001b[39m)\u001b[39m.\u001b[39mrun_trial(trial, \u001b[39m*\u001b[39mfit_args, \u001b[39m*\u001b[39m\u001b[39m*\u001b[39mfit_kwargs)\n",
      "File \u001b[1;32mc:\\Users\\Robert\\anaconda3\\envs\\tensorEnv\\lib\\site-packages\\keras_tuner\\engine\\tuner.py:294\u001b[0m, in \u001b[0;36mTuner.run_trial\u001b[1;34m(self, trial, *args, **kwargs)\u001b[0m\n\u001b[0;32m    <a href='file:///c%3A/Users/Robert/anaconda3/envs/tensorEnv/lib/site-packages/keras_tuner/engine/tuner.py?line=291'>292</a>\u001b[0m     callbacks\u001b[39m.\u001b[39mappend(model_checkpoint)\n\u001b[0;32m    <a href='file:///c%3A/Users/Robert/anaconda3/envs/tensorEnv/lib/site-packages/keras_tuner/engine/tuner.py?line=292'>293</a>\u001b[0m     copied_kwargs[\u001b[39m\"\u001b[39m\u001b[39mcallbacks\u001b[39m\u001b[39m\"\u001b[39m] \u001b[39m=\u001b[39m callbacks\n\u001b[1;32m--> <a href='file:///c%3A/Users/Robert/anaconda3/envs/tensorEnv/lib/site-packages/keras_tuner/engine/tuner.py?line=293'>294</a>\u001b[0m     obj_value \u001b[39m=\u001b[39m \u001b[39mself\u001b[39m\u001b[39m.\u001b[39m_build_and_fit_model(trial, \u001b[39m*\u001b[39margs, \u001b[39m*\u001b[39m\u001b[39m*\u001b[39mcopied_kwargs)\n\u001b[0;32m    <a href='file:///c%3A/Users/Robert/anaconda3/envs/tensorEnv/lib/site-packages/keras_tuner/engine/tuner.py?line=295'>296</a>\u001b[0m     histories\u001b[39m.\u001b[39mappend(obj_value)\n\u001b[0;32m    <a href='file:///c%3A/Users/Robert/anaconda3/envs/tensorEnv/lib/site-packages/keras_tuner/engine/tuner.py?line=296'>297</a>\u001b[0m \u001b[39mreturn\u001b[39;00m histories\n",
      "File \u001b[1;32mc:\\Users\\Robert\\anaconda3\\envs\\tensorEnv\\lib\\site-packages\\keras_tuner\\engine\\tuner.py:222\u001b[0m, in \u001b[0;36mTuner._build_and_fit_model\u001b[1;34m(self, trial, *args, **kwargs)\u001b[0m\n\u001b[0;32m    <a href='file:///c%3A/Users/Robert/anaconda3/envs/tensorEnv/lib/site-packages/keras_tuner/engine/tuner.py?line=219'>220</a>\u001b[0m hp \u001b[39m=\u001b[39m trial\u001b[39m.\u001b[39mhyperparameters\n\u001b[0;32m    <a href='file:///c%3A/Users/Robert/anaconda3/envs/tensorEnv/lib/site-packages/keras_tuner/engine/tuner.py?line=220'>221</a>\u001b[0m model \u001b[39m=\u001b[39m \u001b[39mself\u001b[39m\u001b[39m.\u001b[39m_try_build(hp)\n\u001b[1;32m--> <a href='file:///c%3A/Users/Robert/anaconda3/envs/tensorEnv/lib/site-packages/keras_tuner/engine/tuner.py?line=221'>222</a>\u001b[0m results \u001b[39m=\u001b[39m \u001b[39mself\u001b[39m\u001b[39m.\u001b[39mhypermodel\u001b[39m.\u001b[39mfit(hp, model, \u001b[39m*\u001b[39margs, \u001b[39m*\u001b[39m\u001b[39m*\u001b[39mkwargs)\n\u001b[0;32m    <a href='file:///c%3A/Users/Robert/anaconda3/envs/tensorEnv/lib/site-packages/keras_tuner/engine/tuner.py?line=222'>223</a>\u001b[0m \u001b[39mreturn\u001b[39;00m tuner_utils\u001b[39m.\u001b[39mconvert_to_metrics_dict(\n\u001b[0;32m    <a href='file:///c%3A/Users/Robert/anaconda3/envs/tensorEnv/lib/site-packages/keras_tuner/engine/tuner.py?line=223'>224</a>\u001b[0m     results, \u001b[39mself\u001b[39m\u001b[39m.\u001b[39moracle\u001b[39m.\u001b[39mobjective, \u001b[39m\"\u001b[39m\u001b[39mHyperModel.fit()\u001b[39m\u001b[39m\"\u001b[39m\n\u001b[0;32m    <a href='file:///c%3A/Users/Robert/anaconda3/envs/tensorEnv/lib/site-packages/keras_tuner/engine/tuner.py?line=224'>225</a>\u001b[0m )\n",
      "File \u001b[1;32mc:\\Users\\Robert\\anaconda3\\envs\\tensorEnv\\lib\\site-packages\\keras_tuner\\engine\\hypermodel.py:137\u001b[0m, in \u001b[0;36mHyperModel.fit\u001b[1;34m(self, hp, model, *args, **kwargs)\u001b[0m\n\u001b[0;32m    <a href='file:///c%3A/Users/Robert/anaconda3/envs/tensorEnv/lib/site-packages/keras_tuner/engine/hypermodel.py?line=112'>113</a>\u001b[0m \u001b[39mdef\u001b[39;00m \u001b[39mfit\u001b[39m(\u001b[39mself\u001b[39m, hp, model, \u001b[39m*\u001b[39margs, \u001b[39m*\u001b[39m\u001b[39m*\u001b[39mkwargs):\n\u001b[0;32m    <a href='file:///c%3A/Users/Robert/anaconda3/envs/tensorEnv/lib/site-packages/keras_tuner/engine/hypermodel.py?line=113'>114</a>\u001b[0m     \u001b[39m\"\"\"Train the model.\u001b[39;00m\n\u001b[0;32m    <a href='file:///c%3A/Users/Robert/anaconda3/envs/tensorEnv/lib/site-packages/keras_tuner/engine/hypermodel.py?line=114'>115</a>\u001b[0m \n\u001b[0;32m    <a href='file:///c%3A/Users/Robert/anaconda3/envs/tensorEnv/lib/site-packages/keras_tuner/engine/hypermodel.py?line=115'>116</a>\u001b[0m \u001b[39m    Args:\u001b[39;00m\n\u001b[1;32m   (...)\u001b[0m\n\u001b[0;32m    <a href='file:///c%3A/Users/Robert/anaconda3/envs/tensorEnv/lib/site-packages/keras_tuner/engine/hypermodel.py?line=134'>135</a>\u001b[0m \u001b[39m        If return a float, it should be the `objective` value.\u001b[39;00m\n\u001b[0;32m    <a href='file:///c%3A/Users/Robert/anaconda3/envs/tensorEnv/lib/site-packages/keras_tuner/engine/hypermodel.py?line=135'>136</a>\u001b[0m \u001b[39m    \"\"\"\u001b[39;00m\n\u001b[1;32m--> <a href='file:///c%3A/Users/Robert/anaconda3/envs/tensorEnv/lib/site-packages/keras_tuner/engine/hypermodel.py?line=136'>137</a>\u001b[0m     \u001b[39mreturn\u001b[39;00m model\u001b[39m.\u001b[39mfit(\u001b[39m*\u001b[39margs, \u001b[39m*\u001b[39m\u001b[39m*\u001b[39mkwargs)\n",
      "File \u001b[1;32mc:\\Users\\Robert\\anaconda3\\envs\\tensorEnv\\lib\\site-packages\\keras\\utils\\traceback_utils.py:64\u001b[0m, in \u001b[0;36mfilter_traceback.<locals>.error_handler\u001b[1;34m(*args, **kwargs)\u001b[0m\n\u001b[0;32m     <a href='file:///c%3A/Users/Robert/anaconda3/envs/tensorEnv/lib/site-packages/keras/utils/traceback_utils.py?line=61'>62</a>\u001b[0m filtered_tb \u001b[39m=\u001b[39m \u001b[39mNone\u001b[39;00m\n\u001b[0;32m     <a href='file:///c%3A/Users/Robert/anaconda3/envs/tensorEnv/lib/site-packages/keras/utils/traceback_utils.py?line=62'>63</a>\u001b[0m \u001b[39mtry\u001b[39;00m:\n\u001b[1;32m---> <a href='file:///c%3A/Users/Robert/anaconda3/envs/tensorEnv/lib/site-packages/keras/utils/traceback_utils.py?line=63'>64</a>\u001b[0m   \u001b[39mreturn\u001b[39;00m fn(\u001b[39m*\u001b[39margs, \u001b[39m*\u001b[39m\u001b[39m*\u001b[39mkwargs)\n\u001b[0;32m     <a href='file:///c%3A/Users/Robert/anaconda3/envs/tensorEnv/lib/site-packages/keras/utils/traceback_utils.py?line=64'>65</a>\u001b[0m \u001b[39mexcept\u001b[39;00m \u001b[39mException\u001b[39;00m \u001b[39mas\u001b[39;00m e:  \u001b[39m# pylint: disable=broad-except\u001b[39;00m\n\u001b[0;32m     <a href='file:///c%3A/Users/Robert/anaconda3/envs/tensorEnv/lib/site-packages/keras/utils/traceback_utils.py?line=65'>66</a>\u001b[0m   filtered_tb \u001b[39m=\u001b[39m _process_traceback_frames(e\u001b[39m.\u001b[39m__traceback__)\n",
      "File \u001b[1;32mc:\\Users\\Robert\\anaconda3\\envs\\tensorEnv\\lib\\site-packages\\keras\\engine\\training.py:1420\u001b[0m, in \u001b[0;36mModel.fit\u001b[1;34m(self, x, y, batch_size, epochs, verbose, callbacks, validation_split, validation_data, shuffle, class_weight, sample_weight, initial_epoch, steps_per_epoch, validation_steps, validation_batch_size, validation_freq, max_queue_size, workers, use_multiprocessing)\u001b[0m\n\u001b[0;32m   <a href='file:///c%3A/Users/Robert/anaconda3/envs/tensorEnv/lib/site-packages/keras/engine/training.py?line=1405'>1406</a>\u001b[0m \u001b[39mif\u001b[39;00m \u001b[39mgetattr\u001b[39m(\u001b[39mself\u001b[39m, \u001b[39m'\u001b[39m\u001b[39m_eval_data_handler\u001b[39m\u001b[39m'\u001b[39m, \u001b[39mNone\u001b[39;00m) \u001b[39mis\u001b[39;00m \u001b[39mNone\u001b[39;00m:\n\u001b[0;32m   <a href='file:///c%3A/Users/Robert/anaconda3/envs/tensorEnv/lib/site-packages/keras/engine/training.py?line=1406'>1407</a>\u001b[0m   \u001b[39mself\u001b[39m\u001b[39m.\u001b[39m_eval_data_handler \u001b[39m=\u001b[39m data_adapter\u001b[39m.\u001b[39mget_data_handler(\n\u001b[0;32m   <a href='file:///c%3A/Users/Robert/anaconda3/envs/tensorEnv/lib/site-packages/keras/engine/training.py?line=1407'>1408</a>\u001b[0m       x\u001b[39m=\u001b[39mval_x,\n\u001b[0;32m   <a href='file:///c%3A/Users/Robert/anaconda3/envs/tensorEnv/lib/site-packages/keras/engine/training.py?line=1408'>1409</a>\u001b[0m       y\u001b[39m=\u001b[39mval_y,\n\u001b[1;32m   (...)\u001b[0m\n\u001b[0;32m   <a href='file:///c%3A/Users/Robert/anaconda3/envs/tensorEnv/lib/site-packages/keras/engine/training.py?line=1417'>1418</a>\u001b[0m       model\u001b[39m=\u001b[39m\u001b[39mself\u001b[39m,\n\u001b[0;32m   <a href='file:///c%3A/Users/Robert/anaconda3/envs/tensorEnv/lib/site-packages/keras/engine/training.py?line=1418'>1419</a>\u001b[0m       steps_per_execution\u001b[39m=\u001b[39m\u001b[39mself\u001b[39m\u001b[39m.\u001b[39m_steps_per_execution)\n\u001b[1;32m-> <a href='file:///c%3A/Users/Robert/anaconda3/envs/tensorEnv/lib/site-packages/keras/engine/training.py?line=1419'>1420</a>\u001b[0m val_logs \u001b[39m=\u001b[39m \u001b[39mself\u001b[39;49m\u001b[39m.\u001b[39;49mevaluate(\n\u001b[0;32m   <a href='file:///c%3A/Users/Robert/anaconda3/envs/tensorEnv/lib/site-packages/keras/engine/training.py?line=1420'>1421</a>\u001b[0m     x\u001b[39m=\u001b[39;49mval_x,\n\u001b[0;32m   <a href='file:///c%3A/Users/Robert/anaconda3/envs/tensorEnv/lib/site-packages/keras/engine/training.py?line=1421'>1422</a>\u001b[0m     y\u001b[39m=\u001b[39;49mval_y,\n\u001b[0;32m   <a href='file:///c%3A/Users/Robert/anaconda3/envs/tensorEnv/lib/site-packages/keras/engine/training.py?line=1422'>1423</a>\u001b[0m     sample_weight\u001b[39m=\u001b[39;49mval_sample_weight,\n\u001b[0;32m   <a href='file:///c%3A/Users/Robert/anaconda3/envs/tensorEnv/lib/site-packages/keras/engine/training.py?line=1423'>1424</a>\u001b[0m     batch_size\u001b[39m=\u001b[39;49mvalidation_batch_size \u001b[39mor\u001b[39;49;00m batch_size,\n\u001b[0;32m   <a href='file:///c%3A/Users/Robert/anaconda3/envs/tensorEnv/lib/site-packages/keras/engine/training.py?line=1424'>1425</a>\u001b[0m     steps\u001b[39m=\u001b[39;49mvalidation_steps,\n\u001b[0;32m   <a href='file:///c%3A/Users/Robert/anaconda3/envs/tensorEnv/lib/site-packages/keras/engine/training.py?line=1425'>1426</a>\u001b[0m     callbacks\u001b[39m=\u001b[39;49mcallbacks,\n\u001b[0;32m   <a href='file:///c%3A/Users/Robert/anaconda3/envs/tensorEnv/lib/site-packages/keras/engine/training.py?line=1426'>1427</a>\u001b[0m     max_queue_size\u001b[39m=\u001b[39;49mmax_queue_size,\n\u001b[0;32m   <a href='file:///c%3A/Users/Robert/anaconda3/envs/tensorEnv/lib/site-packages/keras/engine/training.py?line=1427'>1428</a>\u001b[0m     workers\u001b[39m=\u001b[39;49mworkers,\n\u001b[0;32m   <a href='file:///c%3A/Users/Robert/anaconda3/envs/tensorEnv/lib/site-packages/keras/engine/training.py?line=1428'>1429</a>\u001b[0m     use_multiprocessing\u001b[39m=\u001b[39;49muse_multiprocessing,\n\u001b[0;32m   <a href='file:///c%3A/Users/Robert/anaconda3/envs/tensorEnv/lib/site-packages/keras/engine/training.py?line=1429'>1430</a>\u001b[0m     return_dict\u001b[39m=\u001b[39;49m\u001b[39mTrue\u001b[39;49;00m,\n\u001b[0;32m   <a href='file:///c%3A/Users/Robert/anaconda3/envs/tensorEnv/lib/site-packages/keras/engine/training.py?line=1430'>1431</a>\u001b[0m     _use_cached_eval_dataset\u001b[39m=\u001b[39;49m\u001b[39mTrue\u001b[39;49;00m)\n\u001b[0;32m   <a href='file:///c%3A/Users/Robert/anaconda3/envs/tensorEnv/lib/site-packages/keras/engine/training.py?line=1431'>1432</a>\u001b[0m val_logs \u001b[39m=\u001b[39m {\u001b[39m'\u001b[39m\u001b[39mval_\u001b[39m\u001b[39m'\u001b[39m \u001b[39m+\u001b[39m name: val \u001b[39mfor\u001b[39;00m name, val \u001b[39min\u001b[39;00m val_logs\u001b[39m.\u001b[39mitems()}\n\u001b[0;32m   <a href='file:///c%3A/Users/Robert/anaconda3/envs/tensorEnv/lib/site-packages/keras/engine/training.py?line=1432'>1433</a>\u001b[0m epoch_logs\u001b[39m.\u001b[39mupdate(val_logs)\n",
      "File \u001b[1;32mc:\\Users\\Robert\\anaconda3\\envs\\tensorEnv\\lib\\site-packages\\keras\\utils\\traceback_utils.py:64\u001b[0m, in \u001b[0;36mfilter_traceback.<locals>.error_handler\u001b[1;34m(*args, **kwargs)\u001b[0m\n\u001b[0;32m     <a href='file:///c%3A/Users/Robert/anaconda3/envs/tensorEnv/lib/site-packages/keras/utils/traceback_utils.py?line=61'>62</a>\u001b[0m filtered_tb \u001b[39m=\u001b[39m \u001b[39mNone\u001b[39;00m\n\u001b[0;32m     <a href='file:///c%3A/Users/Robert/anaconda3/envs/tensorEnv/lib/site-packages/keras/utils/traceback_utils.py?line=62'>63</a>\u001b[0m \u001b[39mtry\u001b[39;00m:\n\u001b[1;32m---> <a href='file:///c%3A/Users/Robert/anaconda3/envs/tensorEnv/lib/site-packages/keras/utils/traceback_utils.py?line=63'>64</a>\u001b[0m   \u001b[39mreturn\u001b[39;00m fn(\u001b[39m*\u001b[39margs, \u001b[39m*\u001b[39m\u001b[39m*\u001b[39mkwargs)\n\u001b[0;32m     <a href='file:///c%3A/Users/Robert/anaconda3/envs/tensorEnv/lib/site-packages/keras/utils/traceback_utils.py?line=64'>65</a>\u001b[0m \u001b[39mexcept\u001b[39;00m \u001b[39mException\u001b[39;00m \u001b[39mas\u001b[39;00m e:  \u001b[39m# pylint: disable=broad-except\u001b[39;00m\n\u001b[0;32m     <a href='file:///c%3A/Users/Robert/anaconda3/envs/tensorEnv/lib/site-packages/keras/utils/traceback_utils.py?line=65'>66</a>\u001b[0m   filtered_tb \u001b[39m=\u001b[39m _process_traceback_frames(e\u001b[39m.\u001b[39m__traceback__)\n",
      "File \u001b[1;32mc:\\Users\\Robert\\anaconda3\\envs\\tensorEnv\\lib\\site-packages\\keras\\engine\\training.py:1716\u001b[0m, in \u001b[0;36mModel.evaluate\u001b[1;34m(self, x, y, batch_size, verbose, sample_weight, steps, callbacks, max_queue_size, workers, use_multiprocessing, return_dict, **kwargs)\u001b[0m\n\u001b[0;32m   <a href='file:///c%3A/Users/Robert/anaconda3/envs/tensorEnv/lib/site-packages/keras/engine/training.py?line=1713'>1714</a>\u001b[0m \u001b[39mwith\u001b[39;00m tf\u001b[39m.\u001b[39mprofiler\u001b[39m.\u001b[39mexperimental\u001b[39m.\u001b[39mTrace(\u001b[39m'\u001b[39m\u001b[39mtest\u001b[39m\u001b[39m'\u001b[39m, step_num\u001b[39m=\u001b[39mstep, _r\u001b[39m=\u001b[39m\u001b[39m1\u001b[39m):\n\u001b[0;32m   <a href='file:///c%3A/Users/Robert/anaconda3/envs/tensorEnv/lib/site-packages/keras/engine/training.py?line=1714'>1715</a>\u001b[0m   callbacks\u001b[39m.\u001b[39mon_test_batch_begin(step)\n\u001b[1;32m-> <a href='file:///c%3A/Users/Robert/anaconda3/envs/tensorEnv/lib/site-packages/keras/engine/training.py?line=1715'>1716</a>\u001b[0m   tmp_logs \u001b[39m=\u001b[39m \u001b[39mself\u001b[39;49m\u001b[39m.\u001b[39;49mtest_function(iterator)\n\u001b[0;32m   <a href='file:///c%3A/Users/Robert/anaconda3/envs/tensorEnv/lib/site-packages/keras/engine/training.py?line=1716'>1717</a>\u001b[0m   \u001b[39mif\u001b[39;00m data_handler\u001b[39m.\u001b[39mshould_sync:\n\u001b[0;32m   <a href='file:///c%3A/Users/Robert/anaconda3/envs/tensorEnv/lib/site-packages/keras/engine/training.py?line=1717'>1718</a>\u001b[0m     context\u001b[39m.\u001b[39masync_wait()\n",
      "File \u001b[1;32mc:\\Users\\Robert\\anaconda3\\envs\\tensorEnv\\lib\\site-packages\\tensorflow\\python\\util\\traceback_utils.py:150\u001b[0m, in \u001b[0;36mfilter_traceback.<locals>.error_handler\u001b[1;34m(*args, **kwargs)\u001b[0m\n\u001b[0;32m    <a href='file:///c%3A/Users/Robert/anaconda3/envs/tensorEnv/lib/site-packages/tensorflow/python/util/traceback_utils.py?line=147'>148</a>\u001b[0m filtered_tb \u001b[39m=\u001b[39m \u001b[39mNone\u001b[39;00m\n\u001b[0;32m    <a href='file:///c%3A/Users/Robert/anaconda3/envs/tensorEnv/lib/site-packages/tensorflow/python/util/traceback_utils.py?line=148'>149</a>\u001b[0m \u001b[39mtry\u001b[39;00m:\n\u001b[1;32m--> <a href='file:///c%3A/Users/Robert/anaconda3/envs/tensorEnv/lib/site-packages/tensorflow/python/util/traceback_utils.py?line=149'>150</a>\u001b[0m   \u001b[39mreturn\u001b[39;00m fn(\u001b[39m*\u001b[39margs, \u001b[39m*\u001b[39m\u001b[39m*\u001b[39mkwargs)\n\u001b[0;32m    <a href='file:///c%3A/Users/Robert/anaconda3/envs/tensorEnv/lib/site-packages/tensorflow/python/util/traceback_utils.py?line=150'>151</a>\u001b[0m \u001b[39mexcept\u001b[39;00m \u001b[39mException\u001b[39;00m \u001b[39mas\u001b[39;00m e:\n\u001b[0;32m    <a href='file:///c%3A/Users/Robert/anaconda3/envs/tensorEnv/lib/site-packages/tensorflow/python/util/traceback_utils.py?line=151'>152</a>\u001b[0m   filtered_tb \u001b[39m=\u001b[39m _process_traceback_frames(e\u001b[39m.\u001b[39m__traceback__)\n",
      "File \u001b[1;32mc:\\Users\\Robert\\anaconda3\\envs\\tensorEnv\\lib\\site-packages\\tensorflow\\python\\eager\\def_function.py:915\u001b[0m, in \u001b[0;36mFunction.__call__\u001b[1;34m(self, *args, **kwds)\u001b[0m\n\u001b[0;32m    <a href='file:///c%3A/Users/Robert/anaconda3/envs/tensorEnv/lib/site-packages/tensorflow/python/eager/def_function.py?line=911'>912</a>\u001b[0m compiler \u001b[39m=\u001b[39m \u001b[39m\"\u001b[39m\u001b[39mxla\u001b[39m\u001b[39m\"\u001b[39m \u001b[39mif\u001b[39;00m \u001b[39mself\u001b[39m\u001b[39m.\u001b[39m_jit_compile \u001b[39melse\u001b[39;00m \u001b[39m\"\u001b[39m\u001b[39mnonXla\u001b[39m\u001b[39m\"\u001b[39m\n\u001b[0;32m    <a href='file:///c%3A/Users/Robert/anaconda3/envs/tensorEnv/lib/site-packages/tensorflow/python/eager/def_function.py?line=913'>914</a>\u001b[0m \u001b[39mwith\u001b[39;00m OptionalXlaContext(\u001b[39mself\u001b[39m\u001b[39m.\u001b[39m_jit_compile):\n\u001b[1;32m--> <a href='file:///c%3A/Users/Robert/anaconda3/envs/tensorEnv/lib/site-packages/tensorflow/python/eager/def_function.py?line=914'>915</a>\u001b[0m   result \u001b[39m=\u001b[39m \u001b[39mself\u001b[39m\u001b[39m.\u001b[39m_call(\u001b[39m*\u001b[39margs, \u001b[39m*\u001b[39m\u001b[39m*\u001b[39mkwds)\n\u001b[0;32m    <a href='file:///c%3A/Users/Robert/anaconda3/envs/tensorEnv/lib/site-packages/tensorflow/python/eager/def_function.py?line=916'>917</a>\u001b[0m new_tracing_count \u001b[39m=\u001b[39m \u001b[39mself\u001b[39m\u001b[39m.\u001b[39mexperimental_get_tracing_count()\n\u001b[0;32m    <a href='file:///c%3A/Users/Robert/anaconda3/envs/tensorEnv/lib/site-packages/tensorflow/python/eager/def_function.py?line=917'>918</a>\u001b[0m without_tracing \u001b[39m=\u001b[39m (tracing_count \u001b[39m==\u001b[39m new_tracing_count)\n",
      "File \u001b[1;32mc:\\Users\\Robert\\anaconda3\\envs\\tensorEnv\\lib\\site-packages\\tensorflow\\python\\eager\\def_function.py:954\u001b[0m, in \u001b[0;36mFunction._call\u001b[1;34m(self, *args, **kwds)\u001b[0m\n\u001b[0;32m    <a href='file:///c%3A/Users/Robert/anaconda3/envs/tensorEnv/lib/site-packages/tensorflow/python/eager/def_function.py?line=950'>951</a>\u001b[0m \u001b[39mself\u001b[39m\u001b[39m.\u001b[39m_lock\u001b[39m.\u001b[39mrelease()\n\u001b[0;32m    <a href='file:///c%3A/Users/Robert/anaconda3/envs/tensorEnv/lib/site-packages/tensorflow/python/eager/def_function.py?line=951'>952</a>\u001b[0m \u001b[39m# In this case we have not created variables on the first call. So we can\u001b[39;00m\n\u001b[0;32m    <a href='file:///c%3A/Users/Robert/anaconda3/envs/tensorEnv/lib/site-packages/tensorflow/python/eager/def_function.py?line=952'>953</a>\u001b[0m \u001b[39m# run the first trace but we should fail if variables are created.\u001b[39;00m\n\u001b[1;32m--> <a href='file:///c%3A/Users/Robert/anaconda3/envs/tensorEnv/lib/site-packages/tensorflow/python/eager/def_function.py?line=953'>954</a>\u001b[0m results \u001b[39m=\u001b[39m \u001b[39mself\u001b[39m\u001b[39m.\u001b[39m_stateful_fn(\u001b[39m*\u001b[39margs, \u001b[39m*\u001b[39m\u001b[39m*\u001b[39mkwds)\n\u001b[0;32m    <a href='file:///c%3A/Users/Robert/anaconda3/envs/tensorEnv/lib/site-packages/tensorflow/python/eager/def_function.py?line=954'>955</a>\u001b[0m \u001b[39mif\u001b[39;00m \u001b[39mself\u001b[39m\u001b[39m.\u001b[39m_created_variables \u001b[39mand\u001b[39;00m \u001b[39mnot\u001b[39;00m ALLOW_DYNAMIC_VARIABLE_CREATION:\n\u001b[0;32m    <a href='file:///c%3A/Users/Robert/anaconda3/envs/tensorEnv/lib/site-packages/tensorflow/python/eager/def_function.py?line=955'>956</a>\u001b[0m   \u001b[39mraise\u001b[39;00m \u001b[39mValueError\u001b[39;00m(\u001b[39m\"\u001b[39m\u001b[39mCreating variables on a non-first call to a function\u001b[39m\u001b[39m\"\u001b[39m\n\u001b[0;32m    <a href='file:///c%3A/Users/Robert/anaconda3/envs/tensorEnv/lib/site-packages/tensorflow/python/eager/def_function.py?line=956'>957</a>\u001b[0m                    \u001b[39m\"\u001b[39m\u001b[39m decorated with tf.function.\u001b[39m\u001b[39m\"\u001b[39m)\n",
      "File \u001b[1;32mc:\\Users\\Robert\\anaconda3\\envs\\tensorEnv\\lib\\site-packages\\tensorflow\\python\\eager\\function.py:2956\u001b[0m, in \u001b[0;36mFunction.__call__\u001b[1;34m(self, *args, **kwargs)\u001b[0m\n\u001b[0;32m   <a href='file:///c%3A/Users/Robert/anaconda3/envs/tensorEnv/lib/site-packages/tensorflow/python/eager/function.py?line=2952'>2953</a>\u001b[0m \u001b[39mwith\u001b[39;00m \u001b[39mself\u001b[39m\u001b[39m.\u001b[39m_lock:\n\u001b[0;32m   <a href='file:///c%3A/Users/Robert/anaconda3/envs/tensorEnv/lib/site-packages/tensorflow/python/eager/function.py?line=2953'>2954</a>\u001b[0m   (graph_function,\n\u001b[0;32m   <a href='file:///c%3A/Users/Robert/anaconda3/envs/tensorEnv/lib/site-packages/tensorflow/python/eager/function.py?line=2954'>2955</a>\u001b[0m    filtered_flat_args) \u001b[39m=\u001b[39m \u001b[39mself\u001b[39m\u001b[39m.\u001b[39m_maybe_define_function(args, kwargs)\n\u001b[1;32m-> <a href='file:///c%3A/Users/Robert/anaconda3/envs/tensorEnv/lib/site-packages/tensorflow/python/eager/function.py?line=2955'>2956</a>\u001b[0m \u001b[39mreturn\u001b[39;00m graph_function\u001b[39m.\u001b[39;49m_call_flat(\n\u001b[0;32m   <a href='file:///c%3A/Users/Robert/anaconda3/envs/tensorEnv/lib/site-packages/tensorflow/python/eager/function.py?line=2956'>2957</a>\u001b[0m     filtered_flat_args, captured_inputs\u001b[39m=\u001b[39;49mgraph_function\u001b[39m.\u001b[39;49mcaptured_inputs)\n",
      "File \u001b[1;32mc:\\Users\\Robert\\anaconda3\\envs\\tensorEnv\\lib\\site-packages\\tensorflow\\python\\eager\\function.py:1853\u001b[0m, in \u001b[0;36mConcreteFunction._call_flat\u001b[1;34m(self, args, captured_inputs, cancellation_manager)\u001b[0m\n\u001b[0;32m   <a href='file:///c%3A/Users/Robert/anaconda3/envs/tensorEnv/lib/site-packages/tensorflow/python/eager/function.py?line=1848'>1849</a>\u001b[0m possible_gradient_type \u001b[39m=\u001b[39m gradients_util\u001b[39m.\u001b[39mPossibleTapeGradientTypes(args)\n\u001b[0;32m   <a href='file:///c%3A/Users/Robert/anaconda3/envs/tensorEnv/lib/site-packages/tensorflow/python/eager/function.py?line=1849'>1850</a>\u001b[0m \u001b[39mif\u001b[39;00m (possible_gradient_type \u001b[39m==\u001b[39m gradients_util\u001b[39m.\u001b[39mPOSSIBLE_GRADIENT_TYPES_NONE\n\u001b[0;32m   <a href='file:///c%3A/Users/Robert/anaconda3/envs/tensorEnv/lib/site-packages/tensorflow/python/eager/function.py?line=1850'>1851</a>\u001b[0m     \u001b[39mand\u001b[39;00m executing_eagerly):\n\u001b[0;32m   <a href='file:///c%3A/Users/Robert/anaconda3/envs/tensorEnv/lib/site-packages/tensorflow/python/eager/function.py?line=1851'>1852</a>\u001b[0m   \u001b[39m# No tape is watching; skip to running the function.\u001b[39;00m\n\u001b[1;32m-> <a href='file:///c%3A/Users/Robert/anaconda3/envs/tensorEnv/lib/site-packages/tensorflow/python/eager/function.py?line=1852'>1853</a>\u001b[0m   \u001b[39mreturn\u001b[39;00m \u001b[39mself\u001b[39m\u001b[39m.\u001b[39m_build_call_outputs(\u001b[39mself\u001b[39;49m\u001b[39m.\u001b[39;49m_inference_function\u001b[39m.\u001b[39;49mcall(\n\u001b[0;32m   <a href='file:///c%3A/Users/Robert/anaconda3/envs/tensorEnv/lib/site-packages/tensorflow/python/eager/function.py?line=1853'>1854</a>\u001b[0m       ctx, args, cancellation_manager\u001b[39m=\u001b[39;49mcancellation_manager))\n\u001b[0;32m   <a href='file:///c%3A/Users/Robert/anaconda3/envs/tensorEnv/lib/site-packages/tensorflow/python/eager/function.py?line=1854'>1855</a>\u001b[0m forward_backward \u001b[39m=\u001b[39m \u001b[39mself\u001b[39m\u001b[39m.\u001b[39m_select_forward_and_backward_functions(\n\u001b[0;32m   <a href='file:///c%3A/Users/Robert/anaconda3/envs/tensorEnv/lib/site-packages/tensorflow/python/eager/function.py?line=1855'>1856</a>\u001b[0m     args,\n\u001b[0;32m   <a href='file:///c%3A/Users/Robert/anaconda3/envs/tensorEnv/lib/site-packages/tensorflow/python/eager/function.py?line=1856'>1857</a>\u001b[0m     possible_gradient_type,\n\u001b[0;32m   <a href='file:///c%3A/Users/Robert/anaconda3/envs/tensorEnv/lib/site-packages/tensorflow/python/eager/function.py?line=1857'>1858</a>\u001b[0m     executing_eagerly)\n\u001b[0;32m   <a href='file:///c%3A/Users/Robert/anaconda3/envs/tensorEnv/lib/site-packages/tensorflow/python/eager/function.py?line=1858'>1859</a>\u001b[0m forward_function, args_with_tangents \u001b[39m=\u001b[39m forward_backward\u001b[39m.\u001b[39mforward()\n",
      "File \u001b[1;32mc:\\Users\\Robert\\anaconda3\\envs\\tensorEnv\\lib\\site-packages\\tensorflow\\python\\eager\\function.py:499\u001b[0m, in \u001b[0;36m_EagerDefinedFunction.call\u001b[1;34m(self, ctx, args, cancellation_manager)\u001b[0m\n\u001b[0;32m    <a href='file:///c%3A/Users/Robert/anaconda3/envs/tensorEnv/lib/site-packages/tensorflow/python/eager/function.py?line=496'>497</a>\u001b[0m \u001b[39mwith\u001b[39;00m _InterpolateFunctionError(\u001b[39mself\u001b[39m):\n\u001b[0;32m    <a href='file:///c%3A/Users/Robert/anaconda3/envs/tensorEnv/lib/site-packages/tensorflow/python/eager/function.py?line=497'>498</a>\u001b[0m   \u001b[39mif\u001b[39;00m cancellation_manager \u001b[39mis\u001b[39;00m \u001b[39mNone\u001b[39;00m:\n\u001b[1;32m--> <a href='file:///c%3A/Users/Robert/anaconda3/envs/tensorEnv/lib/site-packages/tensorflow/python/eager/function.py?line=498'>499</a>\u001b[0m     outputs \u001b[39m=\u001b[39m execute\u001b[39m.\u001b[39;49mexecute(\n\u001b[0;32m    <a href='file:///c%3A/Users/Robert/anaconda3/envs/tensorEnv/lib/site-packages/tensorflow/python/eager/function.py?line=499'>500</a>\u001b[0m         \u001b[39mstr\u001b[39;49m(\u001b[39mself\u001b[39;49m\u001b[39m.\u001b[39;49msignature\u001b[39m.\u001b[39;49mname),\n\u001b[0;32m    <a href='file:///c%3A/Users/Robert/anaconda3/envs/tensorEnv/lib/site-packages/tensorflow/python/eager/function.py?line=500'>501</a>\u001b[0m         num_outputs\u001b[39m=\u001b[39;49m\u001b[39mself\u001b[39;49m\u001b[39m.\u001b[39;49m_num_outputs,\n\u001b[0;32m    <a href='file:///c%3A/Users/Robert/anaconda3/envs/tensorEnv/lib/site-packages/tensorflow/python/eager/function.py?line=501'>502</a>\u001b[0m         inputs\u001b[39m=\u001b[39;49margs,\n\u001b[0;32m    <a href='file:///c%3A/Users/Robert/anaconda3/envs/tensorEnv/lib/site-packages/tensorflow/python/eager/function.py?line=502'>503</a>\u001b[0m         attrs\u001b[39m=\u001b[39;49mattrs,\n\u001b[0;32m    <a href='file:///c%3A/Users/Robert/anaconda3/envs/tensorEnv/lib/site-packages/tensorflow/python/eager/function.py?line=503'>504</a>\u001b[0m         ctx\u001b[39m=\u001b[39;49mctx)\n\u001b[0;32m    <a href='file:///c%3A/Users/Robert/anaconda3/envs/tensorEnv/lib/site-packages/tensorflow/python/eager/function.py?line=504'>505</a>\u001b[0m   \u001b[39melse\u001b[39;00m:\n\u001b[0;32m    <a href='file:///c%3A/Users/Robert/anaconda3/envs/tensorEnv/lib/site-packages/tensorflow/python/eager/function.py?line=505'>506</a>\u001b[0m     outputs \u001b[39m=\u001b[39m execute\u001b[39m.\u001b[39mexecute_with_cancellation(\n\u001b[0;32m    <a href='file:///c%3A/Users/Robert/anaconda3/envs/tensorEnv/lib/site-packages/tensorflow/python/eager/function.py?line=506'>507</a>\u001b[0m         \u001b[39mstr\u001b[39m(\u001b[39mself\u001b[39m\u001b[39m.\u001b[39msignature\u001b[39m.\u001b[39mname),\n\u001b[0;32m    <a href='file:///c%3A/Users/Robert/anaconda3/envs/tensorEnv/lib/site-packages/tensorflow/python/eager/function.py?line=507'>508</a>\u001b[0m         num_outputs\u001b[39m=\u001b[39m\u001b[39mself\u001b[39m\u001b[39m.\u001b[39m_num_outputs,\n\u001b[1;32m   (...)\u001b[0m\n\u001b[0;32m    <a href='file:///c%3A/Users/Robert/anaconda3/envs/tensorEnv/lib/site-packages/tensorflow/python/eager/function.py?line=510'>511</a>\u001b[0m         ctx\u001b[39m=\u001b[39mctx,\n\u001b[0;32m    <a href='file:///c%3A/Users/Robert/anaconda3/envs/tensorEnv/lib/site-packages/tensorflow/python/eager/function.py?line=511'>512</a>\u001b[0m         cancellation_manager\u001b[39m=\u001b[39mcancellation_manager)\n",
      "File \u001b[1;32mc:\\Users\\Robert\\anaconda3\\envs\\tensorEnv\\lib\\site-packages\\tensorflow\\python\\eager\\execute.py:54\u001b[0m, in \u001b[0;36mquick_execute\u001b[1;34m(op_name, num_outputs, inputs, attrs, ctx, name)\u001b[0m\n\u001b[0;32m     <a href='file:///c%3A/Users/Robert/anaconda3/envs/tensorEnv/lib/site-packages/tensorflow/python/eager/execute.py?line=51'>52</a>\u001b[0m \u001b[39mtry\u001b[39;00m:\n\u001b[0;32m     <a href='file:///c%3A/Users/Robert/anaconda3/envs/tensorEnv/lib/site-packages/tensorflow/python/eager/execute.py?line=52'>53</a>\u001b[0m   ctx\u001b[39m.\u001b[39mensure_initialized()\n\u001b[1;32m---> <a href='file:///c%3A/Users/Robert/anaconda3/envs/tensorEnv/lib/site-packages/tensorflow/python/eager/execute.py?line=53'>54</a>\u001b[0m   tensors \u001b[39m=\u001b[39m pywrap_tfe\u001b[39m.\u001b[39;49mTFE_Py_Execute(ctx\u001b[39m.\u001b[39;49m_handle, device_name, op_name,\n\u001b[0;32m     <a href='file:///c%3A/Users/Robert/anaconda3/envs/tensorEnv/lib/site-packages/tensorflow/python/eager/execute.py?line=54'>55</a>\u001b[0m                                       inputs, attrs, num_outputs)\n\u001b[0;32m     <a href='file:///c%3A/Users/Robert/anaconda3/envs/tensorEnv/lib/site-packages/tensorflow/python/eager/execute.py?line=55'>56</a>\u001b[0m \u001b[39mexcept\u001b[39;00m core\u001b[39m.\u001b[39m_NotOkStatusException \u001b[39mas\u001b[39;00m e:\n\u001b[0;32m     <a href='file:///c%3A/Users/Robert/anaconda3/envs/tensorEnv/lib/site-packages/tensorflow/python/eager/execute.py?line=56'>57</a>\u001b[0m   \u001b[39mif\u001b[39;00m name \u001b[39mis\u001b[39;00m \u001b[39mnot\u001b[39;00m \u001b[39mNone\u001b[39;00m:\n",
      "\u001b[1;31mKeyboardInterrupt\u001b[0m: "
     ]
    }
   ],
   "source": [
    "tuner.search(X_train, y_train, epochs=NUM_EPOCHS, validation_split=0.2, callbacks=[stop_early], verbose=2)\n",
    "\n",
    "# # Get the optimal hyperparameters\n",
    "# best_hps=tuner.get_best_hyperparameters(num_trials=1)[0]\n",
    "\n",
    "# print(f\"\"\"\n",
    "# The hyperparameter search is complete. The optimal number of units in the first densely-connected\n",
    "# layer is {best_hps.get('units')} and the optimal learning rate for the optimizer\n",
    "# is {best_hps.get('learning_rate')}.\n",
    "# \"\"\")"
   ]
  },
  {
   "cell_type": "code",
   "execution_count": 11,
   "metadata": {},
   "outputs": [
    {
     "name": "stdout",
     "output_type": "stream",
     "text": [
      "Num GPUs Available:  1\n"
     ]
    }
   ],
   "source": [
    "print(\"Num GPUs Available: \", len(tf.config.list_physical_devices('GPU')))"
   ]
  },
  {
   "cell_type": "code",
   "execution_count": 12,
   "metadata": {},
   "outputs": [
    {
     "name": "stdout",
     "output_type": "stream",
     "text": [
      "Epoch 1/20\n",
      "608/608 - 2s - loss: 0.3211 - accuracy: 0.9067 - val_loss: 0.2346 - val_accuracy: 0.9181 - 2s/epoch - 4ms/step\n",
      "Epoch 2/20\n",
      "608/608 - 2s - loss: 0.2391 - accuracy: 0.9143 - val_loss: 0.2331 - val_accuracy: 0.9158 - 2s/epoch - 3ms/step\n",
      "Epoch 3/20\n",
      "608/608 - 2s - loss: 0.2343 - accuracy: 0.9160 - val_loss: 0.2316 - val_accuracy: 0.9144 - 2s/epoch - 3ms/step\n",
      "Epoch 4/20\n",
      "608/608 - 2s - loss: 0.2292 - accuracy: 0.9180 - val_loss: 0.2338 - val_accuracy: 0.9164 - 2s/epoch - 3ms/step\n",
      "Epoch 5/20\n",
      "608/608 - 2s - loss: 0.2264 - accuracy: 0.9193 - val_loss: 0.2292 - val_accuracy: 0.9173 - 2s/epoch - 3ms/step\n",
      "Epoch 6/20\n",
      "608/608 - 2s - loss: 0.2224 - accuracy: 0.9200 - val_loss: 0.2304 - val_accuracy: 0.9181 - 2s/epoch - 3ms/step\n",
      "Epoch 7/20\n",
      "608/608 - 2s - loss: 0.2192 - accuracy: 0.9211 - val_loss: 0.2318 - val_accuracy: 0.9181 - 2s/epoch - 3ms/step\n",
      "Epoch 8/20\n",
      "608/608 - 2s - loss: 0.2177 - accuracy: 0.9207 - val_loss: 0.2321 - val_accuracy: 0.9166 - 2s/epoch - 3ms/step\n",
      "Epoch 9/20\n",
      "608/608 - 2s - loss: 0.2132 - accuracy: 0.9222 - val_loss: 0.2332 - val_accuracy: 0.9177 - 2s/epoch - 3ms/step\n",
      "Epoch 10/20\n",
      "608/608 - 2s - loss: 0.2064 - accuracy: 0.9233 - val_loss: 0.2357 - val_accuracy: 0.9162 - 2s/epoch - 3ms/step\n",
      "Best epoch: 1\n"
     ]
    }
   ],
   "source": [
    "# Build the model with the optimal hyperparameters and train it on the data for 50 epochs\n",
    "h_model = tuner.hypermodel.build(best_hps)\n",
    "history = h_model.fit(X_train, y_train, epochs=NUM_EPOCHS, validation_split=0.2, callbacks=[stop_early], verbose=2)\n",
    "\n",
    "\n",
    "val_acc_per_epoch = history.history['val_accuracy']\n",
    "best_epoch = val_acc_per_epoch.index(max(val_acc_per_epoch)) + 1\n",
    "print('Best epoch: %d' % (best_epoch,))"
   ]
  },
  {
   "cell_type": "code",
   "execution_count": 13,
   "metadata": {},
   "outputs": [
    {
     "name": "stdout",
     "output_type": "stream",
     "text": [
      "374/374 [==============================] - 1s 2ms/step - loss: 0.2391 - accuracy: 0.9163\n"
     ]
    },
    {
     "name": "stderr",
     "output_type": "stream",
     "text": [
      "C:\\Users\\Robert\\AppData\\Local\\Temp\\ipykernel_1160\\1061095111.py:8: FutureWarning: The frame.append method is deprecated and will be removed from pandas in a future version. Use pandas.concat instead.\n",
      "  results.append(hyper_df)\n"
     ]
    },
    {
     "data": {
      "text/html": [
       "<div>\n",
       "<style scoped>\n",
       "    .dataframe tbody tr th:only-of-type {\n",
       "        vertical-align: middle;\n",
       "    }\n",
       "\n",
       "    .dataframe tbody tr th {\n",
       "        vertical-align: top;\n",
       "    }\n",
       "\n",
       "    .dataframe thead tr th {\n",
       "        text-align: left;\n",
       "    }\n",
       "</style>\n",
       "<table border=\"1\" class=\"dataframe\">\n",
       "  <thead>\n",
       "    <tr>\n",
       "      <th></th>\n",
       "      <th>loss</th>\n",
       "      <th>accuracy</th>\n",
       "    </tr>\n",
       "  </thead>\n",
       "  <tbody>\n",
       "    <tr>\n",
       "      <th>Baseline</th>\n",
       "      <td>0.247332</td>\n",
       "      <td>0.912251</td>\n",
       "    </tr>\n",
       "    <tr>\n",
       "      <th>Hypertuned</th>\n",
       "      <td>0.239135</td>\n",
       "      <td>0.916263</td>\n",
       "    </tr>\n",
       "  </tbody>\n",
       "</table>\n",
       "</div>"
      ],
      "text/plain": [
       "                loss  accuracy\n",
       "Baseline    0.247332  0.912251\n",
       "Hypertuned  0.239135  0.916263"
      ]
     },
     "execution_count": 13,
     "metadata": {},
     "output_type": "execute_result"
    }
   ],
   "source": [
    "# Evaluate model on test set\n",
    "hyper_df = evaluate_model(h_model, X_test, y_test)\n",
    "\n",
    "# Set index to hypertuned\n",
    "hyper_df.index = [\"Hypertuned\"]\n",
    "\n",
    "# Append results in dataframe\n",
    "results.append(hyper_df)"
   ]
  },
  {
   "cell_type": "code",
   "execution_count": 16,
   "metadata": {},
   "outputs": [
    {
     "ename": "ValueError",
     "evalue": "Input 0 of layer \"conv1_pad\" is incompatible with the layer: expected ndim=4, found ndim=2. Full shape received: (None, 195)",
     "output_type": "error",
     "traceback": [
      "\u001b[1;31m---------------------------------------------------------------------------\u001b[0m",
      "\u001b[1;31mValueError\u001b[0m                                Traceback (most recent call last)",
      "\u001b[1;32mc:\\Users\\Robert\\coding\\projects\\studies\\PredictingDepression\\notebooks\\modeling_nn.ipynb Cell 14'\u001b[0m in \u001b[0;36m<cell line: 5>\u001b[1;34m()\u001b[0m\n\u001b[0;32m      <a href='vscode-notebook-cell:/c%3A/Users/Robert/coding/projects/studies/PredictingDepression/notebooks/modeling_nn.ipynb#ch0000007?line=1'>2</a>\u001b[0m hypermodel \u001b[39m=\u001b[39m kt\u001b[39m.\u001b[39mapplications\u001b[39m.\u001b[39mHyperResNet(input_shape\u001b[39m=\u001b[39m(\u001b[39m195\u001b[39m, ), classes\u001b[39m=\u001b[39m\u001b[39m10\u001b[39m)\n\u001b[0;32m      <a href='vscode-notebook-cell:/c%3A/Users/Robert/coding/projects/studies/PredictingDepression/notebooks/modeling_nn.ipynb#ch0000007?line=3'>4</a>\u001b[0m \u001b[39m# Instantiate tuner with bayesian optimzation search algorithm and our hypermodel\u001b[39;00m\n\u001b[1;32m----> <a href='vscode-notebook-cell:/c%3A/Users/Robert/coding/projects/studies/PredictingDepression/notebooks/modeling_nn.ipynb#ch0000007?line=4'>5</a>\u001b[0m tuner \u001b[39m=\u001b[39m kt\u001b[39m.\u001b[39;49mtuners\u001b[39m.\u001b[39;49mBayesianOptimization(\n\u001b[0;32m      <a href='vscode-notebook-cell:/c%3A/Users/Robert/coding/projects/studies/PredictingDepression/notebooks/modeling_nn.ipynb#ch0000007?line=5'>6</a>\u001b[0m     hypermodel,\n\u001b[0;32m      <a href='vscode-notebook-cell:/c%3A/Users/Robert/coding/projects/studies/PredictingDepression/notebooks/modeling_nn.ipynb#ch0000007?line=6'>7</a>\u001b[0m     objective\u001b[39m=\u001b[39;49m\u001b[39m'\u001b[39;49m\u001b[39mval_accuracy\u001b[39;49m\u001b[39m'\u001b[39;49m,\n\u001b[0;32m      <a href='vscode-notebook-cell:/c%3A/Users/Robert/coding/projects/studies/PredictingDepression/notebooks/modeling_nn.ipynb#ch0000007?line=7'>8</a>\u001b[0m     max_trials\u001b[39m=\u001b[39;49m\u001b[39m3\u001b[39;49m,\n\u001b[0;32m      <a href='vscode-notebook-cell:/c%3A/Users/Robert/coding/projects/studies/PredictingDepression/notebooks/modeling_nn.ipynb#ch0000007?line=8'>9</a>\u001b[0m     directory\u001b[39m=\u001b[39;49m\u001b[39m\"\u001b[39;49m\u001b[39mkt_dir\u001b[39;49m\u001b[39m\"\u001b[39;49m,\n\u001b[0;32m     <a href='vscode-notebook-cell:/c%3A/Users/Robert/coding/projects/studies/PredictingDepression/notebooks/modeling_nn.ipynb#ch0000007?line=9'>10</a>\u001b[0m     project_name\u001b[39m=\u001b[39;49m\u001b[39m\"\u001b[39;49m\u001b[39mkt_bayes_resnet\u001b[39;49m\u001b[39m\"\u001b[39;49m)\n",
      "File \u001b[1;32mc:\\Users\\Robert\\anaconda3\\envs\\tensorEnv\\lib\\site-packages\\keras_tuner\\tuners\\bayesian.py:460\u001b[0m, in \u001b[0;36mBayesianOptimization.__init__\u001b[1;34m(self, hypermodel, objective, max_trials, num_initial_points, alpha, beta, seed, hyperparameters, tune_new_entries, allow_new_entries, **kwargs)\u001b[0m\n\u001b[0;32m    <a href='file:///c%3A/Users/Robert/anaconda3/envs/tensorEnv/lib/site-packages/keras_tuner/tuners/bayesian.py?line=434'>435</a>\u001b[0m \u001b[39mdef\u001b[39;00m \u001b[39m__init__\u001b[39m(\n\u001b[0;32m    <a href='file:///c%3A/Users/Robert/anaconda3/envs/tensorEnv/lib/site-packages/keras_tuner/tuners/bayesian.py?line=435'>436</a>\u001b[0m     \u001b[39mself\u001b[39m,\n\u001b[0;32m    <a href='file:///c%3A/Users/Robert/anaconda3/envs/tensorEnv/lib/site-packages/keras_tuner/tuners/bayesian.py?line=436'>437</a>\u001b[0m     hypermodel\u001b[39m=\u001b[39m\u001b[39mNone\u001b[39;00m,\n\u001b[1;32m   (...)\u001b[0m\n\u001b[0;32m    <a href='file:///c%3A/Users/Robert/anaconda3/envs/tensorEnv/lib/site-packages/keras_tuner/tuners/bayesian.py?line=446'>447</a>\u001b[0m     \u001b[39m*\u001b[39m\u001b[39m*\u001b[39mkwargs\n\u001b[0;32m    <a href='file:///c%3A/Users/Robert/anaconda3/envs/tensorEnv/lib/site-packages/keras_tuner/tuners/bayesian.py?line=447'>448</a>\u001b[0m ):\n\u001b[0;32m    <a href='file:///c%3A/Users/Robert/anaconda3/envs/tensorEnv/lib/site-packages/keras_tuner/tuners/bayesian.py?line=448'>449</a>\u001b[0m     oracle \u001b[39m=\u001b[39m BayesianOptimizationOracle(\n\u001b[0;32m    <a href='file:///c%3A/Users/Robert/anaconda3/envs/tensorEnv/lib/site-packages/keras_tuner/tuners/bayesian.py?line=449'>450</a>\u001b[0m         objective\u001b[39m=\u001b[39mobjective,\n\u001b[0;32m    <a href='file:///c%3A/Users/Robert/anaconda3/envs/tensorEnv/lib/site-packages/keras_tuner/tuners/bayesian.py?line=450'>451</a>\u001b[0m         max_trials\u001b[39m=\u001b[39mmax_trials,\n\u001b[1;32m   (...)\u001b[0m\n\u001b[0;32m    <a href='file:///c%3A/Users/Robert/anaconda3/envs/tensorEnv/lib/site-packages/keras_tuner/tuners/bayesian.py?line=457'>458</a>\u001b[0m         allow_new_entries\u001b[39m=\u001b[39mallow_new_entries,\n\u001b[0;32m    <a href='file:///c%3A/Users/Robert/anaconda3/envs/tensorEnv/lib/site-packages/keras_tuner/tuners/bayesian.py?line=458'>459</a>\u001b[0m     )\n\u001b[1;32m--> <a href='file:///c%3A/Users/Robert/anaconda3/envs/tensorEnv/lib/site-packages/keras_tuner/tuners/bayesian.py?line=459'>460</a>\u001b[0m     \u001b[39msuper\u001b[39m(\n\u001b[0;32m    <a href='file:///c%3A/Users/Robert/anaconda3/envs/tensorEnv/lib/site-packages/keras_tuner/tuners/bayesian.py?line=460'>461</a>\u001b[0m         BayesianOptimization,\n\u001b[0;32m    <a href='file:///c%3A/Users/Robert/anaconda3/envs/tensorEnv/lib/site-packages/keras_tuner/tuners/bayesian.py?line=461'>462</a>\u001b[0m         \u001b[39mself\u001b[39m,\n\u001b[0;32m    <a href='file:///c%3A/Users/Robert/anaconda3/envs/tensorEnv/lib/site-packages/keras_tuner/tuners/bayesian.py?line=462'>463</a>\u001b[0m     )\u001b[39m.\u001b[39m\u001b[39m__init__\u001b[39m(oracle\u001b[39m=\u001b[39moracle, hypermodel\u001b[39m=\u001b[39mhypermodel, \u001b[39m*\u001b[39m\u001b[39m*\u001b[39mkwargs)\n\u001b[0;32m    <a href='file:///c%3A/Users/Robert/anaconda3/envs/tensorEnv/lib/site-packages/keras_tuner/tuners/bayesian.py?line=463'>464</a>\u001b[0m     \u001b[39mif\u001b[39;00m scipy \u001b[39mis\u001b[39;00m \u001b[39mNone\u001b[39;00m:\n\u001b[0;32m    <a href='file:///c%3A/Users/Robert/anaconda3/envs/tensorEnv/lib/site-packages/keras_tuner/tuners/bayesian.py?line=464'>465</a>\u001b[0m         \u001b[39mraise\u001b[39;00m \u001b[39mImportError\u001b[39;00m(\n\u001b[0;32m    <a href='file:///c%3A/Users/Robert/anaconda3/envs/tensorEnv/lib/site-packages/keras_tuner/tuners/bayesian.py?line=465'>466</a>\u001b[0m             \u001b[39m\"\u001b[39m\u001b[39mPlease install scipy before using the `BayesianOptimization`.\u001b[39m\u001b[39m\"\u001b[39m\n\u001b[0;32m    <a href='file:///c%3A/Users/Robert/anaconda3/envs/tensorEnv/lib/site-packages/keras_tuner/tuners/bayesian.py?line=466'>467</a>\u001b[0m         )\n",
      "File \u001b[1;32mc:\\Users\\Robert\\anaconda3\\envs\\tensorEnv\\lib\\site-packages\\keras_tuner\\engine\\tuner.py:110\u001b[0m, in \u001b[0;36mTuner.__init__\u001b[1;34m(self, oracle, hypermodel, max_model_size, optimizer, loss, metrics, distribution_strategy, directory, project_name, logger, tuner_id, overwrite, executions_per_trial)\u001b[0m\n\u001b[0;32m    <a href='file:///c%3A/Users/Robert/anaconda3/envs/tensorEnv/lib/site-packages/keras_tuner/engine/tuner.py?line=101'>102</a>\u001b[0m \u001b[39mif\u001b[39;00m hypermodel \u001b[39mis\u001b[39;00m \u001b[39mNone\u001b[39;00m \u001b[39mand\u001b[39;00m \u001b[39mself\u001b[39m\u001b[39m.\u001b[39m\u001b[39m__class__\u001b[39m\u001b[39m.\u001b[39mrun_trial \u001b[39mis\u001b[39;00m Tuner\u001b[39m.\u001b[39mrun_trial:\n\u001b[0;32m    <a href='file:///c%3A/Users/Robert/anaconda3/envs/tensorEnv/lib/site-packages/keras_tuner/engine/tuner.py?line=102'>103</a>\u001b[0m     \u001b[39mraise\u001b[39;00m \u001b[39mValueError\u001b[39;00m(\n\u001b[0;32m    <a href='file:///c%3A/Users/Robert/anaconda3/envs/tensorEnv/lib/site-packages/keras_tuner/engine/tuner.py?line=103'>104</a>\u001b[0m         \u001b[39m\"\u001b[39m\u001b[39mReceived `hypermodel=None`. We only allow not specifying \u001b[39m\u001b[39m\"\u001b[39m\n\u001b[0;32m    <a href='file:///c%3A/Users/Robert/anaconda3/envs/tensorEnv/lib/site-packages/keras_tuner/engine/tuner.py?line=104'>105</a>\u001b[0m         \u001b[39m\"\u001b[39m\u001b[39m`hypermodel` if the user defines the search space in \u001b[39m\u001b[39m\"\u001b[39m\n\u001b[0;32m    <a href='file:///c%3A/Users/Robert/anaconda3/envs/tensorEnv/lib/site-packages/keras_tuner/engine/tuner.py?line=105'>106</a>\u001b[0m         \u001b[39m\"\u001b[39m\u001b[39m`Tuner.run_trial()` by subclassing a `Tuner` class without \u001b[39m\u001b[39m\"\u001b[39m\n\u001b[0;32m    <a href='file:///c%3A/Users/Robert/anaconda3/envs/tensorEnv/lib/site-packages/keras_tuner/engine/tuner.py?line=106'>107</a>\u001b[0m         \u001b[39m\"\u001b[39m\u001b[39musing a `HyperModel` instance.\u001b[39m\u001b[39m\"\u001b[39m\n\u001b[0;32m    <a href='file:///c%3A/Users/Robert/anaconda3/envs/tensorEnv/lib/site-packages/keras_tuner/engine/tuner.py?line=107'>108</a>\u001b[0m     )\n\u001b[1;32m--> <a href='file:///c%3A/Users/Robert/anaconda3/envs/tensorEnv/lib/site-packages/keras_tuner/engine/tuner.py?line=109'>110</a>\u001b[0m \u001b[39msuper\u001b[39;49m(Tuner, \u001b[39mself\u001b[39;49m)\u001b[39m.\u001b[39;49m\u001b[39m__init__\u001b[39;49m(\n\u001b[0;32m    <a href='file:///c%3A/Users/Robert/anaconda3/envs/tensorEnv/lib/site-packages/keras_tuner/engine/tuner.py?line=110'>111</a>\u001b[0m     oracle\u001b[39m=\u001b[39;49moracle,\n\u001b[0;32m    <a href='file:///c%3A/Users/Robert/anaconda3/envs/tensorEnv/lib/site-packages/keras_tuner/engine/tuner.py?line=111'>112</a>\u001b[0m     hypermodel\u001b[39m=\u001b[39;49mhypermodel,\n\u001b[0;32m    <a href='file:///c%3A/Users/Robert/anaconda3/envs/tensorEnv/lib/site-packages/keras_tuner/engine/tuner.py?line=112'>113</a>\u001b[0m     directory\u001b[39m=\u001b[39;49mdirectory,\n\u001b[0;32m    <a href='file:///c%3A/Users/Robert/anaconda3/envs/tensorEnv/lib/site-packages/keras_tuner/engine/tuner.py?line=113'>114</a>\u001b[0m     project_name\u001b[39m=\u001b[39;49mproject_name,\n\u001b[0;32m    <a href='file:///c%3A/Users/Robert/anaconda3/envs/tensorEnv/lib/site-packages/keras_tuner/engine/tuner.py?line=114'>115</a>\u001b[0m     logger\u001b[39m=\u001b[39;49mlogger,\n\u001b[0;32m    <a href='file:///c%3A/Users/Robert/anaconda3/envs/tensorEnv/lib/site-packages/keras_tuner/engine/tuner.py?line=115'>116</a>\u001b[0m     overwrite\u001b[39m=\u001b[39;49moverwrite,\n\u001b[0;32m    <a href='file:///c%3A/Users/Robert/anaconda3/envs/tensorEnv/lib/site-packages/keras_tuner/engine/tuner.py?line=116'>117</a>\u001b[0m )\n\u001b[0;32m    <a href='file:///c%3A/Users/Robert/anaconda3/envs/tensorEnv/lib/site-packages/keras_tuner/engine/tuner.py?line=118'>119</a>\u001b[0m \u001b[39mself\u001b[39m\u001b[39m.\u001b[39mmax_model_size \u001b[39m=\u001b[39m max_model_size\n\u001b[0;32m    <a href='file:///c%3A/Users/Robert/anaconda3/envs/tensorEnv/lib/site-packages/keras_tuner/engine/tuner.py?line=119'>120</a>\u001b[0m \u001b[39mself\u001b[39m\u001b[39m.\u001b[39moptimizer \u001b[39m=\u001b[39m optimizer\n",
      "File \u001b[1;32mc:\\Users\\Robert\\anaconda3\\envs\\tensorEnv\\lib\\site-packages\\keras_tuner\\engine\\base_tuner.py:103\u001b[0m, in \u001b[0;36mBaseTuner.__init__\u001b[1;34m(self, oracle, hypermodel, directory, project_name, logger, overwrite)\u001b[0m\n\u001b[0;32m    <a href='file:///c%3A/Users/Robert/anaconda3/envs/tensorEnv/lib/site-packages/keras_tuner/engine/base_tuner.py?line=99'>100</a>\u001b[0m \u001b[39mself\u001b[39m\u001b[39m.\u001b[39mlogger \u001b[39m=\u001b[39m logger\n\u001b[0;32m    <a href='file:///c%3A/Users/Robert/anaconda3/envs/tensorEnv/lib/site-packages/keras_tuner/engine/base_tuner.py?line=100'>101</a>\u001b[0m \u001b[39mself\u001b[39m\u001b[39m.\u001b[39m_display \u001b[39m=\u001b[39m tuner_utils\u001b[39m.\u001b[39mDisplay(oracle\u001b[39m=\u001b[39m\u001b[39mself\u001b[39m\u001b[39m.\u001b[39moracle)\n\u001b[1;32m--> <a href='file:///c%3A/Users/Robert/anaconda3/envs/tensorEnv/lib/site-packages/keras_tuner/engine/base_tuner.py?line=102'>103</a>\u001b[0m \u001b[39mself\u001b[39;49m\u001b[39m.\u001b[39;49m_populate_initial_space()\n\u001b[0;32m    <a href='file:///c%3A/Users/Robert/anaconda3/envs/tensorEnv/lib/site-packages/keras_tuner/engine/base_tuner.py?line=104'>105</a>\u001b[0m \u001b[39mif\u001b[39;00m \u001b[39mnot\u001b[39;00m overwrite \u001b[39mand\u001b[39;00m tf\u001b[39m.\u001b[39mio\u001b[39m.\u001b[39mgfile\u001b[39m.\u001b[39mexists(\u001b[39mself\u001b[39m\u001b[39m.\u001b[39m_get_tuner_fname()):\n\u001b[0;32m    <a href='file:///c%3A/Users/Robert/anaconda3/envs/tensorEnv/lib/site-packages/keras_tuner/engine/base_tuner.py?line=105'>106</a>\u001b[0m     tf\u001b[39m.\u001b[39mget_logger()\u001b[39m.\u001b[39minfo(\n\u001b[0;32m    <a href='file:///c%3A/Users/Robert/anaconda3/envs/tensorEnv/lib/site-packages/keras_tuner/engine/base_tuner.py?line=106'>107</a>\u001b[0m         \u001b[39m\"\u001b[39m\u001b[39mReloading Tuner from \u001b[39m\u001b[39m{}\u001b[39;00m\u001b[39m\"\u001b[39m\u001b[39m.\u001b[39mformat(\u001b[39mself\u001b[39m\u001b[39m.\u001b[39m_get_tuner_fname())\n\u001b[0;32m    <a href='file:///c%3A/Users/Robert/anaconda3/envs/tensorEnv/lib/site-packages/keras_tuner/engine/base_tuner.py?line=107'>108</a>\u001b[0m     )\n",
      "File \u001b[1;32mc:\\Users\\Robert\\anaconda3\\envs\\tensorEnv\\lib\\site-packages\\keras_tuner\\engine\\base_tuner.py:132\u001b[0m, in \u001b[0;36mBaseTuner._populate_initial_space\u001b[1;34m(self)\u001b[0m\n\u001b[0;32m    <a href='file:///c%3A/Users/Robert/anaconda3/envs/tensorEnv/lib/site-packages/keras_tuner/engine/base_tuner.py?line=128'>129</a>\u001b[0m scopes_once_active \u001b[39m=\u001b[39m []\n\u001b[0;32m    <a href='file:///c%3A/Users/Robert/anaconda3/envs/tensorEnv/lib/site-packages/keras_tuner/engine/base_tuner.py?line=130'>131</a>\u001b[0m \u001b[39mwhile\u001b[39;00m \u001b[39mTrue\u001b[39;00m:\n\u001b[1;32m--> <a href='file:///c%3A/Users/Robert/anaconda3/envs/tensorEnv/lib/site-packages/keras_tuner/engine/base_tuner.py?line=131'>132</a>\u001b[0m     \u001b[39mself\u001b[39;49m\u001b[39m.\u001b[39;49mhypermodel\u001b[39m.\u001b[39;49mbuild(hp)\n\u001b[0;32m    <a href='file:///c%3A/Users/Robert/anaconda3/envs/tensorEnv/lib/site-packages/keras_tuner/engine/base_tuner.py?line=133'>134</a>\u001b[0m     \u001b[39m# Update the recored scopes.\u001b[39;00m\n\u001b[0;32m    <a href='file:///c%3A/Users/Robert/anaconda3/envs/tensorEnv/lib/site-packages/keras_tuner/engine/base_tuner.py?line=134'>135</a>\u001b[0m     \u001b[39mfor\u001b[39;00m conditions \u001b[39min\u001b[39;00m hp\u001b[39m.\u001b[39mactive_scopes:\n",
      "File \u001b[1;32mc:\\Users\\Robert\\anaconda3\\envs\\tensorEnv\\lib\\site-packages\\keras_tuner\\engine\\hypermodel.py:111\u001b[0m, in \u001b[0;36mHyperModel._build_wrapper\u001b[1;34m(self, hp, *args, **kwargs)\u001b[0m\n\u001b[0;32m    <a href='file:///c%3A/Users/Robert/anaconda3/envs/tensorEnv/lib/site-packages/keras_tuner/engine/hypermodel.py?line=106'>107</a>\u001b[0m \u001b[39mif\u001b[39;00m \u001b[39mnot\u001b[39;00m \u001b[39mself\u001b[39m\u001b[39m.\u001b[39mtunable:\n\u001b[0;32m    <a href='file:///c%3A/Users/Robert/anaconda3/envs/tensorEnv/lib/site-packages/keras_tuner/engine/hypermodel.py?line=107'>108</a>\u001b[0m     \u001b[39m# Copy `HyperParameters` object so that new entries are not added\u001b[39;00m\n\u001b[0;32m    <a href='file:///c%3A/Users/Robert/anaconda3/envs/tensorEnv/lib/site-packages/keras_tuner/engine/hypermodel.py?line=108'>109</a>\u001b[0m     \u001b[39m# to the search space.\u001b[39;00m\n\u001b[0;32m    <a href='file:///c%3A/Users/Robert/anaconda3/envs/tensorEnv/lib/site-packages/keras_tuner/engine/hypermodel.py?line=109'>110</a>\u001b[0m     hp \u001b[39m=\u001b[39m hp\u001b[39m.\u001b[39mcopy()\n\u001b[1;32m--> <a href='file:///c%3A/Users/Robert/anaconda3/envs/tensorEnv/lib/site-packages/keras_tuner/engine/hypermodel.py?line=110'>111</a>\u001b[0m \u001b[39mreturn\u001b[39;00m \u001b[39mself\u001b[39m\u001b[39m.\u001b[39m_build(hp, \u001b[39m*\u001b[39margs, \u001b[39m*\u001b[39m\u001b[39m*\u001b[39mkwargs)\n",
      "File \u001b[1;32mc:\\Users\\Robert\\anaconda3\\envs\\tensorEnv\\lib\\site-packages\\keras_tuner\\applications\\resnet.py:90\u001b[0m, in \u001b[0;36mHyperResNet.build\u001b[1;34m(self, hp)\u001b[0m\n\u001b[0;32m     <a href='file:///c%3A/Users/Robert/anaconda3/envs/tensorEnv/lib/site-packages/keras_tuner/applications/resnet.py?line=86'>87</a>\u001b[0m     x \u001b[39m=\u001b[39m inputs\n\u001b[0;32m     <a href='file:///c%3A/Users/Robert/anaconda3/envs/tensorEnv/lib/site-packages/keras_tuner/applications/resnet.py?line=88'>89</a>\u001b[0m \u001b[39m# Initial conv2d block.\u001b[39;00m\n\u001b[1;32m---> <a href='file:///c%3A/Users/Robert/anaconda3/envs/tensorEnv/lib/site-packages/keras_tuner/applications/resnet.py?line=89'>90</a>\u001b[0m x \u001b[39m=\u001b[39m layers\u001b[39m.\u001b[39;49mZeroPadding2D(padding\u001b[39m=\u001b[39;49m((\u001b[39m3\u001b[39;49m, \u001b[39m3\u001b[39;49m), (\u001b[39m3\u001b[39;49m, \u001b[39m3\u001b[39;49m)), name\u001b[39m=\u001b[39;49m\u001b[39m\"\u001b[39;49m\u001b[39mconv1_pad\u001b[39;49m\u001b[39m\"\u001b[39;49m)(x)\n\u001b[0;32m     <a href='file:///c%3A/Users/Robert/anaconda3/envs/tensorEnv/lib/site-packages/keras_tuner/applications/resnet.py?line=90'>91</a>\u001b[0m x \u001b[39m=\u001b[39m layers\u001b[39m.\u001b[39mConv2D(\u001b[39m64\u001b[39m, \u001b[39m7\u001b[39m, strides\u001b[39m=\u001b[39m\u001b[39m2\u001b[39m, use_bias\u001b[39m=\u001b[39muse_bias, name\u001b[39m=\u001b[39m\u001b[39m\"\u001b[39m\u001b[39mconv1_conv\u001b[39m\u001b[39m\"\u001b[39m)(x)\n\u001b[0;32m     <a href='file:///c%3A/Users/Robert/anaconda3/envs/tensorEnv/lib/site-packages/keras_tuner/applications/resnet.py?line=91'>92</a>\u001b[0m \u001b[39mif\u001b[39;00m preact \u001b[39mis\u001b[39;00m \u001b[39mFalse\u001b[39;00m:\n",
      "File \u001b[1;32mc:\\Users\\Robert\\anaconda3\\envs\\tensorEnv\\lib\\site-packages\\keras\\utils\\traceback_utils.py:67\u001b[0m, in \u001b[0;36mfilter_traceback.<locals>.error_handler\u001b[1;34m(*args, **kwargs)\u001b[0m\n\u001b[0;32m     <a href='file:///c%3A/Users/Robert/anaconda3/envs/tensorEnv/lib/site-packages/keras/utils/traceback_utils.py?line=64'>65</a>\u001b[0m \u001b[39mexcept\u001b[39;00m \u001b[39mException\u001b[39;00m \u001b[39mas\u001b[39;00m e:  \u001b[39m# pylint: disable=broad-except\u001b[39;00m\n\u001b[0;32m     <a href='file:///c%3A/Users/Robert/anaconda3/envs/tensorEnv/lib/site-packages/keras/utils/traceback_utils.py?line=65'>66</a>\u001b[0m   filtered_tb \u001b[39m=\u001b[39m _process_traceback_frames(e\u001b[39m.\u001b[39m__traceback__)\n\u001b[1;32m---> <a href='file:///c%3A/Users/Robert/anaconda3/envs/tensorEnv/lib/site-packages/keras/utils/traceback_utils.py?line=66'>67</a>\u001b[0m   \u001b[39mraise\u001b[39;00m e\u001b[39m.\u001b[39mwith_traceback(filtered_tb) \u001b[39mfrom\u001b[39;00m \u001b[39mNone\u001b[39m\n\u001b[0;32m     <a href='file:///c%3A/Users/Robert/anaconda3/envs/tensorEnv/lib/site-packages/keras/utils/traceback_utils.py?line=67'>68</a>\u001b[0m \u001b[39mfinally\u001b[39;00m:\n\u001b[0;32m     <a href='file:///c%3A/Users/Robert/anaconda3/envs/tensorEnv/lib/site-packages/keras/utils/traceback_utils.py?line=68'>69</a>\u001b[0m   \u001b[39mdel\u001b[39;00m filtered_tb\n",
      "File \u001b[1;32mc:\\Users\\Robert\\anaconda3\\envs\\tensorEnv\\lib\\site-packages\\keras\\engine\\input_spec.py:214\u001b[0m, in \u001b[0;36massert_input_compatibility\u001b[1;34m(input_spec, inputs, layer_name)\u001b[0m\n\u001b[0;32m    <a href='file:///c%3A/Users/Robert/anaconda3/envs/tensorEnv/lib/site-packages/keras/engine/input_spec.py?line=211'>212</a>\u001b[0m   ndim \u001b[39m=\u001b[39m shape\u001b[39m.\u001b[39mrank\n\u001b[0;32m    <a href='file:///c%3A/Users/Robert/anaconda3/envs/tensorEnv/lib/site-packages/keras/engine/input_spec.py?line=212'>213</a>\u001b[0m   \u001b[39mif\u001b[39;00m ndim \u001b[39m!=\u001b[39m spec\u001b[39m.\u001b[39mndim:\n\u001b[1;32m--> <a href='file:///c%3A/Users/Robert/anaconda3/envs/tensorEnv/lib/site-packages/keras/engine/input_spec.py?line=213'>214</a>\u001b[0m     \u001b[39mraise\u001b[39;00m \u001b[39mValueError\u001b[39;00m(\u001b[39mf\u001b[39m\u001b[39m'\u001b[39m\u001b[39mInput \u001b[39m\u001b[39m{\u001b[39;00minput_index\u001b[39m}\u001b[39;00m\u001b[39m of layer \u001b[39m\u001b[39m\"\u001b[39m\u001b[39m{\u001b[39;00mlayer_name\u001b[39m}\u001b[39;00m\u001b[39m\"\u001b[39m\u001b[39m \u001b[39m\u001b[39m'\u001b[39m\n\u001b[0;32m    <a href='file:///c%3A/Users/Robert/anaconda3/envs/tensorEnv/lib/site-packages/keras/engine/input_spec.py?line=214'>215</a>\u001b[0m                      \u001b[39m'\u001b[39m\u001b[39mis incompatible with the layer: \u001b[39m\u001b[39m'\u001b[39m\n\u001b[0;32m    <a href='file:///c%3A/Users/Robert/anaconda3/envs/tensorEnv/lib/site-packages/keras/engine/input_spec.py?line=215'>216</a>\u001b[0m                      \u001b[39mf\u001b[39m\u001b[39m'\u001b[39m\u001b[39mexpected ndim=\u001b[39m\u001b[39m{\u001b[39;00mspec\u001b[39m.\u001b[39mndim\u001b[39m}\u001b[39;00m\u001b[39m, found ndim=\u001b[39m\u001b[39m{\u001b[39;00mndim\u001b[39m}\u001b[39;00m\u001b[39m. \u001b[39m\u001b[39m'\u001b[39m\n\u001b[0;32m    <a href='file:///c%3A/Users/Robert/anaconda3/envs/tensorEnv/lib/site-packages/keras/engine/input_spec.py?line=216'>217</a>\u001b[0m                      \u001b[39mf\u001b[39m\u001b[39m'\u001b[39m\u001b[39mFull shape received: \u001b[39m\u001b[39m{\u001b[39;00m\u001b[39mtuple\u001b[39m(shape)\u001b[39m}\u001b[39;00m\u001b[39m'\u001b[39m)\n\u001b[0;32m    <a href='file:///c%3A/Users/Robert/anaconda3/envs/tensorEnv/lib/site-packages/keras/engine/input_spec.py?line=217'>218</a>\u001b[0m \u001b[39mif\u001b[39;00m spec\u001b[39m.\u001b[39mmax_ndim \u001b[39mis\u001b[39;00m \u001b[39mnot\u001b[39;00m \u001b[39mNone\u001b[39;00m:\n\u001b[0;32m    <a href='file:///c%3A/Users/Robert/anaconda3/envs/tensorEnv/lib/site-packages/keras/engine/input_spec.py?line=218'>219</a>\u001b[0m   ndim \u001b[39m=\u001b[39m x\u001b[39m.\u001b[39mshape\u001b[39m.\u001b[39mrank\n",
      "\u001b[1;31mValueError\u001b[0m: Input 0 of layer \"conv1_pad\" is incompatible with the layer: expected ndim=4, found ndim=2. Full shape received: (None, 195)"
     ]
    }
   ],
   "source": [
    "# Define hypermodel with input shape and number of classes\n",
    "hypermodel = kt.applications.HyperResNet(input_shape=(195, ), classes=10)\n",
    "\n",
    "# Instantiate tuner with bayesian optimzation search algorithm and our hypermodel\n",
    "tuner = kt.tuners.BayesianOptimization(\n",
    "    hypermodel,\n",
    "    objective='val_accuracy',\n",
    "    max_trials=3,\n",
    "    directory=\"kt_dir\",\n",
    "    project_name=\"kt_bayes_resnet\")"
   ]
  },
  {
   "cell_type": "code",
   "execution_count": null,
   "metadata": {},
   "outputs": [],
   "source": [
    "# ResNet expects shape of convolutional layer\n",
    "X_train_res = X_train.reshape(len(X_train), 28, 28, 1)\n",
    "X_test_res = X_test.reshape(len(X_test), 28, 28, 1)\n",
    "\n",
    "# ResNet expects one-hot encoded labels\n",
    "y_train_res = keras.utils.to_categorical(y_train)\n",
    "y_test_res = keras.utils.to_categorical(y_test)\n",
    "\n",
    "tuner.search(X_train_res, y_train_res, epochs=NUM_EPOCHS, validation_split=0.2, verbose=2)\n"
   ]
  },
  {
   "cell_type": "code",
   "execution_count": 19,
   "metadata": {},
   "outputs": [
    {
     "ename": "NameError",
     "evalue": "name 'X_train_res' is not defined",
     "output_type": "error",
     "traceback": [
      "\u001b[1;31m---------------------------------------------------------------------------\u001b[0m",
      "\u001b[1;31mNameError\u001b[0m                                 Traceback (most recent call last)",
      "\u001b[1;32mc:\\Users\\Robert\\coding\\projects\\studies\\PredictingDepression\\notebooks\\modeling_nn.ipynb Cell 16'\u001b[0m in \u001b[0;36m<cell line: 7>\u001b[1;34m()\u001b[0m\n\u001b[0;32m      <a href='vscode-notebook-cell:/c%3A/Users/Robert/coding/projects/studies/PredictingDepression/notebooks/modeling_nn.ipynb#ch0000017?line=3'>4</a>\u001b[0m resnet_model \u001b[39m=\u001b[39m tuner\u001b[39m.\u001b[39mhypermodel\u001b[39m.\u001b[39mbuild(best_hps)\n\u001b[0;32m      <a href='vscode-notebook-cell:/c%3A/Users/Robert/coding/projects/studies/PredictingDepression/notebooks/modeling_nn.ipynb#ch0000017?line=5'>6</a>\u001b[0m \u001b[39m# Train the hypertuned model\u001b[39;00m\n\u001b[1;32m----> <a href='vscode-notebook-cell:/c%3A/Users/Robert/coding/projects/studies/PredictingDepression/notebooks/modeling_nn.ipynb#ch0000017?line=6'>7</a>\u001b[0m resnet_model\u001b[39m.\u001b[39mfit(X_train_res, y_train_res, epochs\u001b[39m=\u001b[39mNUM_EPOCHS, validation_split\u001b[39m=\u001b[39m\u001b[39m0.2\u001b[39m, callbacks\u001b[39m=\u001b[39m[stop_early], verbose\u001b[39m=\u001b[39m\u001b[39m2\u001b[39m)\n",
      "\u001b[1;31mNameError\u001b[0m: name 'X_train_res' is not defined"
     ]
    }
   ],
   "source": [
    "# Get the optimal hyperparameters from the results\n",
    "best_hps=tuner.get_best_hyperparameters()[0]\n",
    "\n",
    "resnet_model = tuner.hypermodel.build(best_hps)\n",
    "\n",
    "# Train the hypertuned model\n",
    "resnet_model.fit(X_train_res, y_train_res, epochs=NUM_EPOCHS, validation_split=0.2, callbacks=[stop_early], verbose=2)\n"
   ]
  },
  {
   "cell_type": "code",
   "execution_count": null,
   "metadata": {},
   "outputs": [],
   "source": [
    "resnet_df = evaluate_model(resnet_model, X_test_res, y_test_res)\n",
    "\n",
    "resnet_df.index = [\"HyperResNet\"]\n",
    "\n",
    "results.append(resnet_df)"
   ]
  }
 ],
 "metadata": {
  "interpreter": {
   "hash": "71a045cd0b516e66c304a4d5d3f6a0a2e4369afd37f13734338ae414b3ac901a"
  },
  "kernelspec": {
   "display_name": "Python 3.10.4 ('tensorEnv')",
   "language": "python",
   "name": "python3"
  },
  "language_info": {
   "codemirror_mode": {
    "name": "ipython",
    "version": 3
   },
   "file_extension": ".py",
   "mimetype": "text/x-python",
   "name": "python",
   "nbconvert_exporter": "python",
   "pygments_lexer": "ipython3",
   "version": "3.10.4"
  },
  "orig_nbformat": 4
 },
 "nbformat": 4,
 "nbformat_minor": 2
}
