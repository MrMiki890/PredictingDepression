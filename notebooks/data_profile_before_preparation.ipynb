{
 "cells": [
  {
   "cell_type": "markdown",
   "metadata": {},
   "source": [
    "# Data profile before preparation (DONE)\n",
    "\n",
    "Data profile has been already done and extracted as html file to \"others\" folder as \"data_profile_before_preparation.html\""
   ]
  },
  {
   "cell_type": "code",
   "execution_count": null,
   "metadata": {},
   "outputs": [],
   "source": [
    "import pandas as pd\n",
    "import pandas_profiling as pp\n",
    "\n",
    "df = pd.read_csv(\"./datasets/FullData.csv\")\n",
    "\n",
    "# Drop RX columns\n",
    "ha = df.filter(regex=r\"^Rx\").columns\n",
    "df.drop(labels=ha, axis=1, inplace=True)\n",
    "\n",
    "# data profile\n",
    "data_profile = pp.ProfileReport(\n",
    "    df, \n",
    "    title=\"Data profiling before data preparation\",\n",
    "    pool_size=12,\n",
    "    dark_mode=True,\n",
    "    correlations={\n",
    "        \"pearson\": {\"calculate\": True},\n",
    "        \"spearman\": {\"calculate\": True},\n",
    "        \"kendall\": {\"calculate\": True},\n",
    "        \"phi_k\": {\"calculate\": True},\n",
    "        \"cramers\": {\"calculate\": True},\n",
    "    },\n",
    "    interactions = {\n",
    "        \"continuous\":False\n",
    "    },\n",
    "    lazy=False\n",
    ")\n",
    "\n",
    "\n",
    "# import streamlit as st\n",
    "\n",
    "# from streamlit_pandas_profiling import st_profile_report\n",
    "\n",
    "# # data_profile.to_notebook_iframe()\n",
    "data_profile.to_file('./others/data_profile_before_preparation.html')\n",
    "\n",
    "# # st.title(\"Pandas Profiling in Streamlit!\")\n",
    "\n",
    "# # st.write(\"profile.html\", unsafe_allow_html = True)\n",
    "\n",
    "# st_profile_report(data_profile)"
   ]
  }
 ],
 "metadata": {
  "interpreter": {
   "hash": "e72cdf873da073bd9e1d12b90b8b939cef715bb153752def9e7f8399622be979"
  },
  "kernelspec": {
   "display_name": "Python 3.10.4 ('predictionEnv')",
   "language": "python",
   "name": "python3"
  },
  "language_info": {
   "name": "python",
   "version": "3.10.4"
  },
  "orig_nbformat": 4
 },
 "nbformat": 4,
 "nbformat_minor": 2
}
